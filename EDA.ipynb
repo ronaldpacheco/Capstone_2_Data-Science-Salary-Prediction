{
 "cells": [
  {
   "cell_type": "code",
   "execution_count": 80,
   "metadata": {},
   "outputs": [],
   "source": [
    "#Importing all necessary packages\n",
    "import pandas as pd\n",
    "import numpy as np\n",
    "import matplotlib.pyplot as plt\n",
    "import seaborn as sns\n",
    "from statsmodels.graphics.mosaicplot import mosaic\n",
    "from scipy.stats import t"
   ]
  },
  {
   "cell_type": "code",
   "execution_count": 2,
   "metadata": {},
   "outputs": [],
   "source": [
    "data = pd.read_csv('Data_Wrangled.csv')\n",
    "#city = pd.read_csv('City_dummy.csv')\n",
    "data.drop(columns=['Unnamed: 0','index'], inplace=True)\n",
    "city.drop(columns=['Unnamed: 0'], inplace=True)\n",
    "pd.set_option('display.max_rows', 140)"
   ]
  },
  {
   "cell_type": "code",
   "execution_count": 3,
   "metadata": {
    "scrolled": true
   },
   "outputs": [
    {
     "name": "stdout",
     "output_type": "stream",
     "text": [
      "<class 'pandas.core.frame.DataFrame'>\n",
      "RangeIndex: 11440 entries, 0 to 11439\n",
      "Data columns (total 139 columns):\n",
      " #   Column                              Non-Null Count  Dtype  \n",
      "---  ------                              --------------  -----  \n",
      " 0   Job_title                           11440 non-null  object \n",
      " 1   Salary Estimate                     9765 non-null   object \n",
      " 2   Job_Desc                            11440 non-null  object \n",
      " 3   Company                             11437 non-null  object \n",
      " 4   Location                            9765 non-null   object \n",
      " 5   Headquarters                        9161 non-null   object \n",
      " 6   Size                                8990 non-null   object \n",
      " 7   Founded                             7202 non-null   float64\n",
      " 8   Type of ownership                   9096 non-null   object \n",
      " 9   Industry                            9977 non-null   object \n",
      " 10  Sector                              8413 non-null   object \n",
      " 11  Revenue                             6567 non-null   object \n",
      " 12  In_Headquarters                     11440 non-null  float64\n",
      " 13  City                                11440 non-null  object \n",
      " 14  State                               11440 non-null  object \n",
      " 15  Min_Salary                          11440 non-null  float64\n",
      " 16  Max_Salary                          11440 non-null  float64\n",
      " 17  R                                   11440 non-null  float64\n",
      " 18  Python                              11440 non-null  float64\n",
      " 19  Julia                               11440 non-null  float64\n",
      " 20  SQL                                 11440 non-null  float64\n",
      " 21  Scala                               11440 non-null  float64\n",
      " 22  JavaScript                          11440 non-null  float64\n",
      " 23  Title_Machine                       11440 non-null  float64\n",
      " 24  Title_Deep                          11440 non-null  float64\n",
      " 25  Title_Analyst                       11440 non-null  float64\n",
      " 26  Title_Engineer                      11440 non-null  float64\n",
      " 27  Title_Scientist                     11440 non-null  float64\n",
      " 28  Title_Manager                       11440 non-null  float64\n",
      " 29  Title_Senior                        11440 non-null  float64\n",
      " 30  Title_Junior                        11440 non-null  float64\n",
      " 31  Title_Lead                          11440 non-null  float64\n",
      " 32  Title_Principal                     11440 non-null  float64\n",
      " 33  Title_Chief                         11440 non-null  float64\n",
      " 34  Title_Intern                        11440 non-null  float64\n",
      " 35  Avg_Salary                          11440 non-null  float64\n",
      " 36  Employer_Estimate                   11440 non-null  float64\n",
      " 37  Size_ord                            11440 non-null  float64\n",
      " 38  Revenue_ord                         11440 non-null  float64\n",
      " 39  Rating                              11440 non-null  float64\n",
      " 40  AZ                                  11440 non-null  int64  \n",
      " 41  CA                                  11440 non-null  int64  \n",
      " 42  CO                                  11440 non-null  int64  \n",
      " 43  DC                                  11440 non-null  int64  \n",
      " 44  DE                                  11440 non-null  int64  \n",
      " 45  FL                                  11440 non-null  int64  \n",
      " 46  GA                                  11440 non-null  int64  \n",
      " 47  IL                                  11440 non-null  int64  \n",
      " 48  IN                                  11440 non-null  int64  \n",
      " 49  KS                                  11440 non-null  int64  \n",
      " 50  KY                                  11440 non-null  int64  \n",
      " 51  MD                                  11440 non-null  int64  \n",
      " 52  NC                                  11440 non-null  int64  \n",
      " 53  NJ                                  11440 non-null  int64  \n",
      " 54  NY                                  11440 non-null  int64  \n",
      " 55  OH                                  11440 non-null  int64  \n",
      " 56  PA                                  11440 non-null  int64  \n",
      " 57  SC                                  11440 non-null  int64  \n",
      " 58  TN                                  11440 non-null  int64  \n",
      " 59  TX                                  11440 non-null  int64  \n",
      " 60  UT                                  11440 non-null  int64  \n",
      " 61  VA                                  11440 non-null  int64  \n",
      " 62  WA                                  11440 non-null  int64  \n",
      " 63  Accounting & Legal                  11440 non-null  int64  \n",
      " 64  Aerospace & Defense                 11440 non-null  int64  \n",
      " 65  Agriculture & Forestry              11440 non-null  int64  \n",
      " 66  Arts, Entertainment & Recreation    11440 non-null  int64  \n",
      " 67  Biotech & Pharmaceuticals           11440 non-null  int64  \n",
      " 68  Business Services                   11440 non-null  int64  \n",
      " 69  Construction, Repair & Maintenance  11440 non-null  int64  \n",
      " 70  Consumer Services                   11440 non-null  int64  \n",
      " 71  Education                           11440 non-null  int64  \n",
      " 72  Finance                             11440 non-null  int64  \n",
      " 73  Government                          11440 non-null  int64  \n",
      " 74  Health Care                         11440 non-null  int64  \n",
      " 75  Information Technology              11440 non-null  int64  \n",
      " 76  Insurance                           11440 non-null  int64  \n",
      " 77  Manufacturing                       11440 non-null  int64  \n",
      " 78  Media                               11440 non-null  int64  \n",
      " 79  Mining & Metals                     11440 non-null  int64  \n",
      " 80  Non-Profit                          11440 non-null  int64  \n",
      " 81  Oil, Gas, Energy & Utilities        11440 non-null  int64  \n",
      " 82  Real Estate                         11440 non-null  int64  \n",
      " 83  Restaurants, Bars & Food Services   11440 non-null  int64  \n",
      " 84  Retail                              11440 non-null  int64  \n",
      " 85  Telecommunications                  11440 non-null  int64  \n",
      " 86  Transportation & Logistics          11440 non-null  int64  \n",
      " 87  Travel & Tourism                    11440 non-null  int64  \n",
      " 88  Austin                              11440 non-null  int64  \n",
      " 89  New York                            11440 non-null  int64  \n",
      " 90  Chicago                             11440 non-null  int64  \n",
      " 91  San Diego                           11440 non-null  int64  \n",
      " 92  Houston                             11440 non-null  int64  \n",
      " 93  San Antonio                         11440 non-null  int64  \n",
      " 94  Dallas                              11440 non-null  int64  \n",
      " 95  Philadelphia                        11440 non-null  int64  \n",
      " 96  Los Angeles                         11440 non-null  int64  \n",
      " 97  San Francisco                       11440 non-null  int64  \n",
      " 98  Phoenix                             11440 non-null  int64  \n",
      " 99  San Jose                            11440 non-null  int64  \n",
      " 100 Irving                              11440 non-null  int64  \n",
      " 101 Columbus                            11440 non-null  int64  \n",
      " 102 Plano                               11440 non-null  int64  \n",
      " 103 Tempe                               11440 non-null  int64  \n",
      " 104 Washington                          11440 non-null  int64  \n",
      " 105 Santa Clara                         11440 non-null  int64  \n",
      " 106 Sunnyvale                           11440 non-null  int64  \n",
      " 107 South San Francisco                 11440 non-null  int64  \n",
      " 108 Arlington                           11440 non-null  int64  \n",
      " 109 Scottsdale                          11440 non-null  int64  \n",
      " 110 Jacksonville                        11440 non-null  int64  \n",
      " 111 Palo Alto                           11440 non-null  int64  \n",
      " 112 Charlotte                           11440 non-null  int64  \n",
      " 113 Redwood City                        11440 non-null  int64  \n",
      " 114 Staffigo Technical Services, LLC    11440 non-null  int64  \n",
      " 115 Apple                               11440 non-null  int64  \n",
      " 116 Amazon                              11440 non-null  int64  \n",
      " 117 Diverse Lynx                        11440 non-null  int64  \n",
      " 118 IBM                                 11440 non-null  int64  \n",
      " 119 Kforce                              11440 non-null  int64  \n",
      " 120 Genentech                           11440 non-null  int64  \n",
      " 121 Solekai Systems Corp                11440 non-null  int64  \n",
      " 122 Lorven Technologies Inc             11440 non-null  int64  \n",
      " 123 Facebook                            11440 non-null  int64  \n",
      " 124 Apex Systems                        11440 non-null  int64  \n",
      " 125 Mondo                               11440 non-null  int64  \n",
      " 126 USAA                                11440 non-null  int64  \n",
      " 127 MUFG                                11440 non-null  int64  \n",
      " 128 Randstad                            11440 non-null  int64  \n",
      " 129 Robert Half                         11440 non-null  int64  \n",
      " 130 eTeam Inc                           11440 non-null  int64  \n",
      " 131 Southwest Research Institute        11440 non-null  int64  \n",
      " 132 Leidos                              11440 non-null  int64  \n",
      " 133 Booz Allen Hamilton Inc             11440 non-null  int64  \n",
      " 134 Kforce Technology Staffing          11440 non-null  int64  \n",
      " 135 UC San Diego                        11440 non-null  int64  \n",
      " 136 Google                              11440 non-null  int64  \n",
      " 137 Guidehouse                          11440 non-null  int64  \n",
      " 138 CyberCoders                         11440 non-null  int64  \n",
      "dtypes: float64(27), int64(99), object(13)\n",
      "memory usage: 12.1+ MB\n"
     ]
    }
   ],
   "source": [
    "data.info(verbose=True, null_counts=True)"
   ]
  },
  {
   "cell_type": "markdown",
   "metadata": {},
   "source": [
    "## Inferential Statistics\n",
    "\n",
    "Since our data is a sample of a bigger population (we don't have ALL the jobs in the US in our dataset), we should do a littl of Inferential Statistics:\n",
    "\n",
    "Let's assume our Null Hypothesis to be that these salary averages are NOT representative of our population's, and put Alternative Hypothesis to be that these ARE in fact representative of our populations's.  \n",
    "\n",
    "#two-sided"
   ]
  },
  {
   "cell_type": "markdown",
   "metadata": {},
   "source": [
    "Let's look at our response variable distribution:"
   ]
  },
  {
   "cell_type": "code",
   "execution_count": 79,
   "metadata": {},
   "outputs": [
    {
     "data": {
      "image/png": "[encoded data removed]",
      "text/plain": [
       "<Figure size 432x288 with 1 Axes>"
      ]
     },
     "metadata": {
      "needs_background": "light"
     },
     "output_type": "display_data"
    }
   ],
   "source": [
    "data.Avg_Salary.hist(bins=40);\n",
    "plt.axvline(data.Avg_Salary.mean(), color='r');"
   ]
  },
  {
   "cell_type": "markdown",
   "metadata": {},
   "source": [
    "Right skewed, which makes sense as we expect to see more jobs with higher salaries than we do with smaller salaries in Data Science.\n",
    "\n",
    "Let's calculate t-score and confidence interval:"
   ]
  },
  {
   "cell_type": "code",
   "execution_count": 86,
   "metadata": {},
   "outputs": [
    {
     "data": {
      "text/plain": [
       "1.9601713906064324"
      ]
     },
     "execution_count": 86,
     "metadata": {},
     "output_type": "execute_result"
    }
   ],
   "source": [
    "tscore=t.ppf(q=1-(0.05/2),df=len(data.Avg_Salary)-1) #q=1-0.05/2 ? \n",
    "tscore"
   ]
  },
  {
   "cell_type": "code",
   "execution_count": 87,
   "metadata": {},
   "outputs": [
    {
     "data": {
      "text/plain": [
       "(90469.64579621382, 91767.82081217779)"
      ]
     },
     "execution_count": 87,
     "metadata": {},
     "output_type": "execute_result"
    }
   ],
   "source": [
    "np.mean(data.Avg_Salary) - tscore*np.std(data.Avg_Salary, ddof=1)/np.sqrt(len(data.Avg_Salary)), np.mean(data.Avg_Salary) + tscore*np.std(data.Avg_Salary, ddof=1)/np.sqrt(len(data.Avg_Salary))"
   ]
  },
  {
   "cell_type": "markdown",
   "metadata": {},
   "source": [
    "# ?\n",
    "\n",
    "`What am I doing wrong? Shouldn't the below distribution be a normal distribution?`"
   ]
  },
  {
   "cell_type": "code",
   "execution_count": 76,
   "metadata": {},
   "outputs": [
    {
     "data": {
      "image/png": "[encoded data removed]",
      "text/plain": [
       "<Figure size 432x288 with 1 Axes>"
      ]
     },
     "metadata": {
      "needs_background": "light"
     },
     "output_type": "display_data"
    }
   ],
   "source": [
    "means = pd.DataFrame({'means': np.random.choice(data.Avg_Salary,size=100000)})\n",
    "plt.hist(np.random.choice(means.means,size=100000000), bins=40);"
   ]
  },
  {
   "cell_type": "markdown",
   "metadata": {},
   "source": [
    "Let's separate our dataframe into dummies dataframe and 'original' dataframe that will cointain all the information we need to do EDA:\n",
    "\n",
    "From the .info() method we know that our 'original' dataframe is between column 0 and 16. So let's copy them:"
   ]
  },
  {
   "cell_type": "code",
   "execution_count": 4,
   "metadata": {},
   "outputs": [],
   "source": [
    "original = data.iloc[:,:17].copy()\n",
    "original['Avg_Salary'] = data.Avg_Salary\n",
    "original['Rating'] = data.Rating\n",
    "original['Employer_Estimate'] = data.Employer_Estimate"
   ]
  },
  {
   "cell_type": "code",
   "execution_count": 5,
   "metadata": {},
   "outputs": [
    {
     "name": "stdout",
     "output_type": "stream",
     "text": [
      "<class 'pandas.core.frame.DataFrame'>\n",
      "RangeIndex: 11440 entries, 0 to 11439\n",
      "Data columns (total 20 columns):\n",
      " #   Column             Non-Null Count  Dtype  \n",
      "---  ------             --------------  -----  \n",
      " 0   Job_title          11440 non-null  object \n",
      " 1   Salary Estimate    9765 non-null   object \n",
      " 2   Job_Desc           11440 non-null  object \n",
      " 3   Company            11437 non-null  object \n",
      " 4   Location           9765 non-null   object \n",
      " 5   Headquarters       9161 non-null   object \n",
      " 6   Size               8990 non-null   object \n",
      " 7   Founded            7202 non-null   float64\n",
      " 8   Type of ownership  9096 non-null   object \n",
      " 9   Industry           9977 non-null   object \n",
      " 10  Sector             8413 non-null   object \n",
      " 11  Revenue            6567 non-null   object \n",
      " 12  In_Headquarters    11440 non-null  float64\n",
      " 13  City               11440 non-null  object \n",
      " 14  State              11440 non-null  object \n",
      " 15  Min_Salary         11440 non-null  float64\n",
      " 16  Max_Salary         11440 non-null  float64\n",
      " 17  Avg_Salary         11440 non-null  float64\n",
      " 18  Rating             11440 non-null  float64\n",
      " 19  Employer_Estimate  11440 non-null  float64\n",
      "dtypes: float64(7), object(13)\n",
      "memory usage: 1.7+ MB\n"
     ]
    }
   ],
   "source": [
    "original.info()"
   ]
  },
  {
   "cell_type": "markdown",
   "metadata": {},
   "source": [
    "We can see `Company` has 3 missing values that weren't present in our data wrangling. This is because 3 observations had an empty string as the company name ('') and when we read it with pd.read_csv it automatically marked them as missing values. So let's look into `Job_Desc` to see if we can find the names:\n"
   ]
  },
  {
   "cell_type": "code",
   "execution_count": 6,
   "metadata": {},
   "outputs": [
    {
     "data": {
      "text/plain": [
       "2544    Job Description\\nETL, SQL Queries, Data Modeli...\n",
       "5203    Job Description\\nETL, SQL Queries, Data Modeli...\n",
       "9424    Description\\n\\nAre you looking for an opportun...\n",
       "Name: Job_Desc, dtype: object"
      ]
     },
     "execution_count": 6,
     "metadata": {},
     "output_type": "execute_result"
    }
   ],
   "source": [
    "original[original.Company.isna()]['Job_Desc']"
   ]
  },
  {
   "cell_type": "code",
   "execution_count": 7,
   "metadata": {
    "scrolled": true
   },
   "outputs": [
    {
     "data": {
      "text/plain": [
       "\"Description\\n\\nAre you looking for an opportunity where your skills and enthusiasm make a difference and where your voice will be heard? At RingCentral our award-winning environment is high-energy, team-oriented and committed to providing world-class service for its customers. We're the #1 global cloud-based, communications provider, growing at more than 30% annually and we're looking for team-members with an entrepreneurial spark!\\nRingCentral fosters career development and provides leadership training, education, workshops, and coaching for all employees. RingCentral promotes a healthy work-life balance by providing catered lunch and breakfast on a daily basis as well as a kitchen stocked with a variety of complimentary beverages and delicious snacks.\\nRingCentral is the largest and fastest-growing pure-play provider in this space, market capitalization of over $18 billion and we are very excited to have surpassed our previous goal of a $1 billion annual revenue run-rate ahead of schedule.\\nCraig Hallum: Predictably Exceptional Results - We've Come To Expect Nothing Less.\\nDeutsche Bank: Executing like a Well-Oiled Machine.\\nJeffries: Firing On All Cylinders.\\nNorthland: As UCaaS Market Evolves, RNG Excels\\n\\nWe're creating cool, disruptive products and we need your help!\\n\\nJob Type: Full-Time | Location: Belmont, CA\\n\\nBusiness Requirements & Analysis:\\nWorks closely with IT department, Legal and business partners to understand processes, gaps and goals\\nLead Business Requirements sessions and Interview cross functional Subject Matter Experts (SMEs) to elicit business requirements\\nOwn RingCentral IT Data Inventory program\\nAnalyze existing and future state business processes, systems and flows of data\\nDevelop and maintain documentation related to developing and modifying business processes and systems\\nPartner with business, internal and external technology teams to define associated system requirements and solutions\\nParticipate in systems implementation projects (requirements documentation, systems configuration, test documentation/execution, issue identification and resolution)\\nActs as the liaison between the business units, technology teams and support teams\\nCritically evaluates information gathered from multiple sources, decompose high-level information into details, abstract up from low-level information to a general understanding\\nDistinguish user requests from the underlying true needs to align with macro vision and strategy\\nMentor Business Systems Analysts and help create best practices for Business Systems Analysis\\nBusiness Solutions Design, Delivery & Support:\\nProactive and takes initiative to gather information, investigate gaps / issues, identifies potential solutions and presents to both Business and IT stakeholders\\nWork closely with Vendors, Implementation Partners, Architects, Developers and Business Units to ensure technical compatibility and user satisfaction\\nFacilitate review sessions with functional owners, subject matter experts and end-user representatives\\nOversee project lifecycle for projects within Big Data team and other RingCentral IT divisions\\nWork with various teams to develop project milestones and timelines for development, UAT, production validation and go live\\nSupport delivery of reporting, dashboards and business intelligence capabilities through partnership with IT and Business\\nLead and perform data management and migration activities\\nEnsure training and timely communications in accordance with project timelines\\nEngage in other areas of IT such as Security, Compliance (SOX), Reporting, Production and participate in change management support to ensure projects are addressed from end to end and the needs, interests and success criteria of the business are met\\nQualifications:\\nBachelor's degree in Computer Science, Computer Engineering, Information Systems or related field and equivalent practical experience.\\nProficiency in ANSI SQL\\n8 - 10 years of knowledge and related industry experience implementing, configuring, customizing and integrating applications\\nAbility to write programs in object-oriented or functional languages would be a plus\\nIn-depth experience and understanding of distributed systems design, hands-on experience with high-scale analytical databases (Redshift, Snowflake, Hadoop, Vertica)\\nMust be a self-starter, completely independent, thrives in a fast-paced environment, customer centric and have the interpersonal skills necessary to manage business and technology relationships\\nAbility to communicate effectively (written and verbally) with both technical and non-technical parties\\nMust exhibit strong understanding of security and confidentiality practices with systems that handle sensitive data (GDPR, CCPA, SOX)\\nAbility to deal with ambiguity and thrive in a rapidly changing business environment\\nCan do and open to learn attitude required\\nExperience with BI systems (Tableau, PowerBI) is a plus\\nExperience in system administration is a plus\\n\\nAbout RingCentral\\n\\nRingCentral, Inc. (NYSE: RNG) is a leading provider of global enterprise cloud communications, collaboration, and contact center solutions. More flexible and cost-effective than legacy on-premises systems, the RingCentral platform empowers employees to work better together from any location, on any device, and via any mode to serve customers, improving business efficiency and customer satisfaction. The company provides unified voice, video meetings, team messaging, digital customer engagement, and integrated contact center solutions for enterprises globally. RingCentral's open platform integrates with leading business apps and enables customers to easily customize business workflows.\\nRingCentral is headquartered in Belmont, California, and has offices around the world.\\n\\nRingCentral is an equal opportunity employer that is committed to workplace diversity.\""
      ]
     },
     "execution_count": 7,
     "metadata": {},
     "output_type": "execute_result"
    }
   ],
   "source": [
    "original.iloc[2544,2]\n",
    "original.iloc[5203,2]\n",
    "original.iloc[9424,2]"
   ]
  },
  {
   "cell_type": "markdown",
   "metadata": {},
   "source": [
    "So observations 2544 and 5203 did not have much information in the job description, but observation 9424 mentioned the name of the company as 'RingCentral'. Let's add it, and change the other two to 'Unkown' as we might still use them for the model:"
   ]
  },
  {
   "cell_type": "code",
   "execution_count": 8,
   "metadata": {},
   "outputs": [],
   "source": [
    "original.iloc[2544,3] = 'Unkown'\n",
    "original.iloc[5203,3] = 'Unkown'\n",
    "original.iloc[9424,3] = 'RingCentral'"
   ]
  },
  {
   "cell_type": "code",
   "execution_count": 9,
   "metadata": {},
   "outputs": [
    {
     "name": "stdout",
     "output_type": "stream",
     "text": [
      "<class 'pandas.core.frame.DataFrame'>\n",
      "RangeIndex: 11440 entries, 0 to 11439\n",
      "Data columns (total 20 columns):\n",
      " #   Column             Non-Null Count  Dtype  \n",
      "---  ------             --------------  -----  \n",
      " 0   Job_title          11440 non-null  object \n",
      " 1   Salary Estimate    9765 non-null   object \n",
      " 2   Job_Desc           11440 non-null  object \n",
      " 3   Company            11440 non-null  object \n",
      " 4   Location           9765 non-null   object \n",
      " 5   Headquarters       9161 non-null   object \n",
      " 6   Size               8990 non-null   object \n",
      " 7   Founded            7202 non-null   float64\n",
      " 8   Type of ownership  9096 non-null   object \n",
      " 9   Industry           9977 non-null   object \n",
      " 10  Sector             8413 non-null   object \n",
      " 11  Revenue            6567 non-null   object \n",
      " 12  In_Headquarters    11440 non-null  float64\n",
      " 13  City               11440 non-null  object \n",
      " 14  State              11440 non-null  object \n",
      " 15  Min_Salary         11440 non-null  float64\n",
      " 16  Max_Salary         11440 non-null  float64\n",
      " 17  Avg_Salary         11440 non-null  float64\n",
      " 18  Rating             11440 non-null  float64\n",
      " 19  Employer_Estimate  11440 non-null  float64\n",
      "dtypes: float64(7), object(13)\n",
      "memory usage: 1.7+ MB\n"
     ]
    }
   ],
   "source": [
    "original.info()"
   ]
  },
  {
   "cell_type": "markdown",
   "metadata": {},
   "source": [
    "And let's drop the columns we don't need (those with missing values):"
   ]
  },
  {
   "cell_type": "code",
   "execution_count": 10,
   "metadata": {},
   "outputs": [
    {
     "name": "stdout",
     "output_type": "stream",
     "text": [
      "<class 'pandas.core.frame.DataFrame'>\n",
      "RangeIndex: 11440 entries, 0 to 11439\n",
      "Data columns (total 11 columns):\n",
      " #   Column             Non-Null Count  Dtype  \n",
      "---  ------             --------------  -----  \n",
      " 0   Job_title          11440 non-null  object \n",
      " 1   Job_Desc           11440 non-null  object \n",
      " 2   Company            11440 non-null  object \n",
      " 3   In_Headquarters    11440 non-null  float64\n",
      " 4   City               11440 non-null  object \n",
      " 5   State              11440 non-null  object \n",
      " 6   Min_Salary         11440 non-null  float64\n",
      " 7   Max_Salary         11440 non-null  float64\n",
      " 8   Avg_Salary         11440 non-null  float64\n",
      " 9   Rating             11440 non-null  float64\n",
      " 10  Employer_Estimate  11440 non-null  float64\n",
      "dtypes: float64(6), object(5)\n",
      "memory usage: 983.2+ KB\n"
     ]
    }
   ],
   "source": [
    "original.dropna(axis=1,inplace=True)\n",
    "original.info()"
   ]
  },
  {
   "cell_type": "code",
   "execution_count": 11,
   "metadata": {},
   "outputs": [
    {
     "data": {
      "text/html": [
       "<div>\n",
       "<style scoped>\n",
       "    .dataframe tbody tr th:only-of-type {\n",
       "        vertical-align: middle;\n",
       "    }\n",
       "\n",
       "    .dataframe tbody tr th {\n",
       "        vertical-align: top;\n",
       "    }\n",
       "\n",
       "    .dataframe thead th {\n",
       "        text-align: right;\n",
       "    }\n",
       "</style>\n",
       "<table border=\"1\" class=\"dataframe\">\n",
       "  <thead>\n",
       "    <tr style=\"text-align: right;\">\n",
       "      <th></th>\n",
       "      <th>In_Headquarters</th>\n",
       "      <th>Min_Salary</th>\n",
       "      <th>Max_Salary</th>\n",
       "      <th>Avg_Salary</th>\n",
       "      <th>Rating</th>\n",
       "      <th>Employer_Estimate</th>\n",
       "    </tr>\n",
       "  </thead>\n",
       "  <tbody>\n",
       "    <tr>\n",
       "      <th>count</th>\n",
       "      <td>11440.000000</td>\n",
       "      <td>11440.000000</td>\n",
       "      <td>11440.000000</td>\n",
       "      <td>11440.000000</td>\n",
       "      <td>11440.000000</td>\n",
       "      <td>11440.000000</td>\n",
       "    </tr>\n",
       "    <tr>\n",
       "      <th>mean</th>\n",
       "      <td>0.248514</td>\n",
       "      <td>69095.334441</td>\n",
       "      <td>113142.131556</td>\n",
       "      <td>91118.733304</td>\n",
       "      <td>3.771128</td>\n",
       "      <td>0.007605</td>\n",
       "    </tr>\n",
       "    <tr>\n",
       "      <th>std</th>\n",
       "      <td>0.432170</td>\n",
       "      <td>30968.862523</td>\n",
       "      <td>41983.461795</td>\n",
       "      <td>35417.851851</td>\n",
       "      <td>0.610937</td>\n",
       "      <td>0.086878</td>\n",
       "    </tr>\n",
       "    <tr>\n",
       "      <th>min</th>\n",
       "      <td>0.000000</td>\n",
       "      <td>12000.000000</td>\n",
       "      <td>35000.000000</td>\n",
       "      <td>27500.000000</td>\n",
       "      <td>1.000000</td>\n",
       "      <td>0.000000</td>\n",
       "    </tr>\n",
       "    <tr>\n",
       "      <th>25%</th>\n",
       "      <td>0.000000</td>\n",
       "      <td>45000.000000</td>\n",
       "      <td>81000.000000</td>\n",
       "      <td>63000.000000</td>\n",
       "      <td>3.400000</td>\n",
       "      <td>0.000000</td>\n",
       "    </tr>\n",
       "    <tr>\n",
       "      <th>50%</th>\n",
       "      <td>0.000000</td>\n",
       "      <td>60000.000000</td>\n",
       "      <td>103000.000000</td>\n",
       "      <td>80972.000000</td>\n",
       "      <td>3.800000</td>\n",
       "      <td>0.000000</td>\n",
       "    </tr>\n",
       "    <tr>\n",
       "      <th>75%</th>\n",
       "      <td>0.000000</td>\n",
       "      <td>88000.000000</td>\n",
       "      <td>140000.000000</td>\n",
       "      <td>113000.000000</td>\n",
       "      <td>4.100000</td>\n",
       "      <td>0.000000</td>\n",
       "    </tr>\n",
       "    <tr>\n",
       "      <th>max</th>\n",
       "      <td>1.000000</td>\n",
       "      <td>205735.000000</td>\n",
       "      <td>383416.000000</td>\n",
       "      <td>289617.000000</td>\n",
       "      <td>5.000000</td>\n",
       "      <td>1.000000</td>\n",
       "    </tr>\n",
       "  </tbody>\n",
       "</table>\n",
       "</div>"
      ],
      "text/plain": [
       "       In_Headquarters     Min_Salary     Max_Salary     Avg_Salary  \\\n",
       "count     11440.000000   11440.000000   11440.000000   11440.000000   \n",
       "mean          0.248514   69095.334441  113142.131556   91118.733304   \n",
       "std           0.432170   30968.862523   41983.461795   35417.851851   \n",
       "min           0.000000   12000.000000   35000.000000   27500.000000   \n",
       "25%           0.000000   45000.000000   81000.000000   63000.000000   \n",
       "50%           0.000000   60000.000000  103000.000000   80972.000000   \n",
       "75%           0.000000   88000.000000  140000.000000  113000.000000   \n",
       "max           1.000000  205735.000000  383416.000000  289617.000000   \n",
       "\n",
       "             Rating  Employer_Estimate  \n",
       "count  11440.000000       11440.000000  \n",
       "mean       3.771128           0.007605  \n",
       "std        0.610937           0.086878  \n",
       "min        1.000000           0.000000  \n",
       "25%        3.400000           0.000000  \n",
       "50%        3.800000           0.000000  \n",
       "75%        4.100000           0.000000  \n",
       "max        5.000000           1.000000  "
      ]
     },
     "execution_count": 11,
     "metadata": {},
     "output_type": "execute_result"
    }
   ],
   "source": [
    "original.describe()"
   ]
  },
  {
   "cell_type": "markdown",
   "metadata": {},
   "source": [
    "The mean average salary is `$91K`, the max is `$290K` and the min is `$27.5K`."
   ]
  },
  {
   "cell_type": "markdown",
   "metadata": {},
   "source": [
    "Okay... So the better the company the more they pay, right? Let's see:"
   ]
  },
  {
   "cell_type": "code",
   "execution_count": 13,
   "metadata": {},
   "outputs": [
    {
     "data": {
      "text/plain": [
       "<AxesSubplot:xlabel='Rating', ylabel='Avg_Salary'>"
      ]
     },
     "execution_count": 13,
     "metadata": {},
     "output_type": "execute_result"
    },
    {
     "data": {
      "image/png": "[encoded data removed]",
      "text/plain": [
       "<Figure size 432x288 with 1 Axes>"
      ]
     },
     "metadata": {
      "needs_background": "light"
     },
     "output_type": "display_data"
    }
   ],
   "source": [
    "sns.scatterplot(data=original, x='Rating',y='Avg_Salary',alpha=0.2)"
   ]
  },
  {
   "cell_type": "markdown",
   "metadata": {},
   "source": [
    "`Rating` does not seem to affect the average salary for the position... Let's look at `Size` and `Revenue`:"
   ]
  },
  {
   "cell_type": "code",
   "execution_count": 14,
   "metadata": {},
   "outputs": [
    {
     "data": {
      "image/png": "[encoded data removed]",
      "text/plain": [
       "<Figure size 1080x288 with 2 Axes>"
      ]
     },
     "metadata": {
      "needs_background": "light"
     },
     "output_type": "display_data"
    }
   ],
   "source": [
    "fig, axes = plt.subplots(1,2,figsize=(15,4), sharey=True)\n",
    "sns.barplot(ax=axes[0],data=data,  y='Avg_Salary', x='Size_ord');\n",
    "sns.barplot(ax=axes[1],data=data,  y='Avg_Salary', x='Revenue_ord');\n",
    "plt.show()"
   ]
  },
  {
   "cell_type": "markdown",
   "metadata": {},
   "source": [
    "`Size` and `Revenue` don't seem to drive the average salary either.\n",
    "\n",
    "Let's look at sizes:"
   ]
  },
  {
   "cell_type": "code",
   "execution_count": 15,
   "metadata": {},
   "outputs": [
    {
     "data": {
      "image/png": "[encoded data removed]",
      "text/plain": [
       "<Figure size 1080x288 with 1 Axes>"
      ]
     },
     "metadata": {
      "needs_background": "light"
     },
     "output_type": "display_data"
    }
   ],
   "source": [
    "plt.figure(figsize=(15,4))\n",
    "sns.barplot(data=data,  y='Avg_Salary', x='Size');\n",
    "plt.show()"
   ]
  },
  {
   "cell_type": "markdown",
   "metadata": {},
   "source": [
    "Not much of a difference... 10000+ employees companies seem to pay slightly more on average.\n",
    "\n",
    "What about by sector? "
   ]
  },
  {
   "cell_type": "code",
   "execution_count": 16,
   "metadata": {},
   "outputs": [
    {
     "data": {
      "image/png": "[encoded data removed]",
      "text/plain": [
       "<Figure size 1440x576 with 1 Axes>"
      ]
     },
     "metadata": {
      "needs_background": "light"
     },
     "output_type": "display_data"
    }
   ],
   "source": [
    "plt.figure(figsize=(20,8))\n",
    "sns.barplot(data=data,  y='Avg_Salary', x='Sector');\n",
    "plt.xticks(rotation=90)\n",
    "plt.show()"
   ]
  },
  {
   "cell_type": "markdown",
   "metadata": {},
   "source": [
    "Here we see a little more variation. Biotech & Pharmaceuticals, Agriculture & Forestry & Media seem to pay more on average.\n",
    "\n",
    "Now by states:"
   ]
  },
  {
   "cell_type": "code",
   "execution_count": 17,
   "metadata": {},
   "outputs": [
    {
     "data": {
      "image/png": "[encoded data removed]",
      "text/plain": [
       "<Figure size 1440x720 with 1 Axes>"
      ]
     },
     "metadata": {
      "needs_background": "light"
     },
     "output_type": "display_data"
    }
   ],
   "source": [
    "plt.subplots(figsize=(20,10))\n",
    "sns.barplot(data=original, x='State', y='Avg_Salary')\n",
    "plt.show()"
   ]
  },
  {
   "cell_type": "code",
   "execution_count": 18,
   "metadata": {},
   "outputs": [],
   "source": [
    "#original.groupby('State')['Avg_Salary'].mean().sort_values(ascending=False)"
   ]
  },
  {
   "cell_type": "markdown",
   "metadata": {},
   "source": [
    "On average, the 5 highest paying states are: CA, KY, VA, NY and MD. Contrarywise, UT, GA, IN, KS and WA seem to be the worst paying states... It is not surprise that CA and NY are amongst the better payinh states, but GA being amongst the worst at around $44K a year is very interesting... Maybe they are hiring more Data Analyst than anything else? \n",
    "\n",
    "Let's see the number of job postings per job title in each state:"
   ]
  },
  {
   "cell_type": "code",
   "execution_count": 19,
   "metadata": {},
   "outputs": [],
   "source": [
    "titles = data.iloc[:,23:35].copy()\n",
    "titles['State'] = data.State"
   ]
  },
  {
   "cell_type": "code",
   "execution_count": 20,
   "metadata": {},
   "outputs": [
    {
     "data": {
      "text/html": [
       "<div>\n",
       "<style scoped>\n",
       "    .dataframe tbody tr th:only-of-type {\n",
       "        vertical-align: middle;\n",
       "    }\n",
       "\n",
       "    .dataframe tbody tr th {\n",
       "        vertical-align: top;\n",
       "    }\n",
       "\n",
       "    .dataframe thead th {\n",
       "        text-align: right;\n",
       "    }\n",
       "</style>\n",
       "<table border=\"1\" class=\"dataframe\">\n",
       "  <thead>\n",
       "    <tr style=\"text-align: right;\">\n",
       "      <th></th>\n",
       "      <th>Title_Machine</th>\n",
       "      <th>Title_Deep</th>\n",
       "      <th>Title_Analyst</th>\n",
       "      <th>Title_Engineer</th>\n",
       "      <th>Title_Scientist</th>\n",
       "      <th>Title_Manager</th>\n",
       "      <th>Title_Senior</th>\n",
       "      <th>Title_Junior</th>\n",
       "      <th>Title_Lead</th>\n",
       "      <th>Title_Principal</th>\n",
       "      <th>Title_Chief</th>\n",
       "      <th>Title_Intern</th>\n",
       "    </tr>\n",
       "    <tr>\n",
       "      <th>State</th>\n",
       "      <th></th>\n",
       "      <th></th>\n",
       "      <th></th>\n",
       "      <th></th>\n",
       "      <th></th>\n",
       "      <th></th>\n",
       "      <th></th>\n",
       "      <th></th>\n",
       "      <th></th>\n",
       "      <th></th>\n",
       "      <th></th>\n",
       "      <th></th>\n",
       "    </tr>\n",
       "  </thead>\n",
       "  <tbody>\n",
       "    <tr>\n",
       "      <th>AZ</th>\n",
       "      <td>5.0</td>\n",
       "      <td>0.0</td>\n",
       "      <td>499.0</td>\n",
       "      <td>110.0</td>\n",
       "      <td>74.0</td>\n",
       "      <td>13.0</td>\n",
       "      <td>109.0</td>\n",
       "      <td>12.0</td>\n",
       "      <td>12.0</td>\n",
       "      <td>7.0</td>\n",
       "      <td>0.0</td>\n",
       "      <td>5.0</td>\n",
       "    </tr>\n",
       "    <tr>\n",
       "      <th>CA</th>\n",
       "      <td>131.0</td>\n",
       "      <td>10.0</td>\n",
       "      <td>1894.0</td>\n",
       "      <td>400.0</td>\n",
       "      <td>935.0</td>\n",
       "      <td>76.0</td>\n",
       "      <td>649.0</td>\n",
       "      <td>46.0</td>\n",
       "      <td>62.0</td>\n",
       "      <td>74.0</td>\n",
       "      <td>1.0</td>\n",
       "      <td>16.0</td>\n",
       "    </tr>\n",
       "    <tr>\n",
       "      <th>CO</th>\n",
       "      <td>0.0</td>\n",
       "      <td>0.0</td>\n",
       "      <td>96.0</td>\n",
       "      <td>1.0</td>\n",
       "      <td>0.0</td>\n",
       "      <td>0.0</td>\n",
       "      <td>13.0</td>\n",
       "      <td>4.0</td>\n",
       "      <td>3.0</td>\n",
       "      <td>0.0</td>\n",
       "      <td>0.0</td>\n",
       "      <td>0.0</td>\n",
       "    </tr>\n",
       "    <tr>\n",
       "      <th>DC</th>\n",
       "      <td>9.0</td>\n",
       "      <td>0.0</td>\n",
       "      <td>9.0</td>\n",
       "      <td>35.0</td>\n",
       "      <td>95.0</td>\n",
       "      <td>1.0</td>\n",
       "      <td>31.0</td>\n",
       "      <td>1.0</td>\n",
       "      <td>3.0</td>\n",
       "      <td>0.0</td>\n",
       "      <td>0.0</td>\n",
       "      <td>0.0</td>\n",
       "    </tr>\n",
       "    <tr>\n",
       "      <th>DE</th>\n",
       "      <td>0.0</td>\n",
       "      <td>0.0</td>\n",
       "      <td>48.0</td>\n",
       "      <td>3.0</td>\n",
       "      <td>5.0</td>\n",
       "      <td>3.0</td>\n",
       "      <td>2.0</td>\n",
       "      <td>1.0</td>\n",
       "      <td>6.0</td>\n",
       "      <td>0.0</td>\n",
       "      <td>0.0</td>\n",
       "      <td>0.0</td>\n",
       "    </tr>\n",
       "    <tr>\n",
       "      <th>FL</th>\n",
       "      <td>0.0</td>\n",
       "      <td>0.0</td>\n",
       "      <td>50.0</td>\n",
       "      <td>14.0</td>\n",
       "      <td>21.0</td>\n",
       "      <td>2.0</td>\n",
       "      <td>13.0</td>\n",
       "      <td>8.0</td>\n",
       "      <td>3.0</td>\n",
       "      <td>0.0</td>\n",
       "      <td>0.0</td>\n",
       "      <td>0.0</td>\n",
       "    </tr>\n",
       "    <tr>\n",
       "      <th>GA</th>\n",
       "      <td>0.0</td>\n",
       "      <td>0.0</td>\n",
       "      <td>4.0</td>\n",
       "      <td>0.0</td>\n",
       "      <td>0.0</td>\n",
       "      <td>0.0</td>\n",
       "      <td>0.0</td>\n",
       "      <td>2.0</td>\n",
       "      <td>0.0</td>\n",
       "      <td>0.0</td>\n",
       "      <td>0.0</td>\n",
       "      <td>0.0</td>\n",
       "    </tr>\n",
       "    <tr>\n",
       "      <th>IL</th>\n",
       "      <td>12.0</td>\n",
       "      <td>1.0</td>\n",
       "      <td>577.0</td>\n",
       "      <td>85.0</td>\n",
       "      <td>143.0</td>\n",
       "      <td>20.0</td>\n",
       "      <td>139.0</td>\n",
       "      <td>21.0</td>\n",
       "      <td>22.0</td>\n",
       "      <td>6.0</td>\n",
       "      <td>1.0</td>\n",
       "      <td>8.0</td>\n",
       "    </tr>\n",
       "    <tr>\n",
       "      <th>IN</th>\n",
       "      <td>0.0</td>\n",
       "      <td>0.0</td>\n",
       "      <td>23.0</td>\n",
       "      <td>0.0</td>\n",
       "      <td>0.0</td>\n",
       "      <td>0.0</td>\n",
       "      <td>5.0</td>\n",
       "      <td>3.0</td>\n",
       "      <td>0.0</td>\n",
       "      <td>0.0</td>\n",
       "      <td>0.0</td>\n",
       "      <td>0.0</td>\n",
       "    </tr>\n",
       "    <tr>\n",
       "      <th>KS</th>\n",
       "      <td>0.0</td>\n",
       "      <td>0.0</td>\n",
       "      <td>3.0</td>\n",
       "      <td>0.0</td>\n",
       "      <td>0.0</td>\n",
       "      <td>0.0</td>\n",
       "      <td>0.0</td>\n",
       "      <td>0.0</td>\n",
       "      <td>0.0</td>\n",
       "      <td>0.0</td>\n",
       "      <td>0.0</td>\n",
       "      <td>0.0</td>\n",
       "    </tr>\n",
       "    <tr>\n",
       "      <th>KY</th>\n",
       "      <td>0.0</td>\n",
       "      <td>0.0</td>\n",
       "      <td>0.0</td>\n",
       "      <td>0.0</td>\n",
       "      <td>0.0</td>\n",
       "      <td>1.0</td>\n",
       "      <td>0.0</td>\n",
       "      <td>0.0</td>\n",
       "      <td>0.0</td>\n",
       "      <td>0.0</td>\n",
       "      <td>0.0</td>\n",
       "      <td>0.0</td>\n",
       "    </tr>\n",
       "    <tr>\n",
       "      <th>MD</th>\n",
       "      <td>1.0</td>\n",
       "      <td>1.0</td>\n",
       "      <td>1.0</td>\n",
       "      <td>16.0</td>\n",
       "      <td>139.0</td>\n",
       "      <td>4.0</td>\n",
       "      <td>34.0</td>\n",
       "      <td>2.0</td>\n",
       "      <td>1.0</td>\n",
       "      <td>7.0</td>\n",
       "      <td>0.0</td>\n",
       "      <td>0.0</td>\n",
       "    </tr>\n",
       "    <tr>\n",
       "      <th>NC</th>\n",
       "      <td>0.0</td>\n",
       "      <td>0.0</td>\n",
       "      <td>90.0</td>\n",
       "      <td>2.0</td>\n",
       "      <td>0.0</td>\n",
       "      <td>0.0</td>\n",
       "      <td>10.0</td>\n",
       "      <td>2.0</td>\n",
       "      <td>0.0</td>\n",
       "      <td>0.0</td>\n",
       "      <td>1.0</td>\n",
       "      <td>0.0</td>\n",
       "    </tr>\n",
       "    <tr>\n",
       "      <th>NJ</th>\n",
       "      <td>2.0</td>\n",
       "      <td>0.0</td>\n",
       "      <td>181.0</td>\n",
       "      <td>6.0</td>\n",
       "      <td>23.0</td>\n",
       "      <td>3.0</td>\n",
       "      <td>37.0</td>\n",
       "      <td>1.0</td>\n",
       "      <td>3.0</td>\n",
       "      <td>0.0</td>\n",
       "      <td>0.0</td>\n",
       "      <td>2.0</td>\n",
       "    </tr>\n",
       "    <tr>\n",
       "      <th>NY</th>\n",
       "      <td>20.0</td>\n",
       "      <td>0.0</td>\n",
       "      <td>643.0</td>\n",
       "      <td>43.0</td>\n",
       "      <td>218.0</td>\n",
       "      <td>19.0</td>\n",
       "      <td>151.0</td>\n",
       "      <td>6.0</td>\n",
       "      <td>20.0</td>\n",
       "      <td>18.0</td>\n",
       "      <td>1.0</td>\n",
       "      <td>10.0</td>\n",
       "    </tr>\n",
       "    <tr>\n",
       "      <th>OH</th>\n",
       "      <td>6.0</td>\n",
       "      <td>0.0</td>\n",
       "      <td>64.0</td>\n",
       "      <td>51.0</td>\n",
       "      <td>88.0</td>\n",
       "      <td>5.0</td>\n",
       "      <td>29.0</td>\n",
       "      <td>6.0</td>\n",
       "      <td>6.0</td>\n",
       "      <td>7.0</td>\n",
       "      <td>0.0</td>\n",
       "      <td>0.0</td>\n",
       "    </tr>\n",
       "    <tr>\n",
       "      <th>PA</th>\n",
       "      <td>7.0</td>\n",
       "      <td>0.0</td>\n",
       "      <td>444.0</td>\n",
       "      <td>68.0</td>\n",
       "      <td>169.0</td>\n",
       "      <td>15.0</td>\n",
       "      <td>108.0</td>\n",
       "      <td>16.0</td>\n",
       "      <td>14.0</td>\n",
       "      <td>19.0</td>\n",
       "      <td>0.0</td>\n",
       "      <td>4.0</td>\n",
       "    </tr>\n",
       "    <tr>\n",
       "      <th>SC</th>\n",
       "      <td>0.0</td>\n",
       "      <td>0.0</td>\n",
       "      <td>3.0</td>\n",
       "      <td>0.0</td>\n",
       "      <td>0.0</td>\n",
       "      <td>0.0</td>\n",
       "      <td>0.0</td>\n",
       "      <td>0.0</td>\n",
       "      <td>0.0</td>\n",
       "      <td>0.0</td>\n",
       "      <td>0.0</td>\n",
       "      <td>0.0</td>\n",
       "    </tr>\n",
       "    <tr>\n",
       "      <th>TN</th>\n",
       "      <td>0.0</td>\n",
       "      <td>0.0</td>\n",
       "      <td>0.0</td>\n",
       "      <td>0.0</td>\n",
       "      <td>0.0</td>\n",
       "      <td>0.0</td>\n",
       "      <td>1.0</td>\n",
       "      <td>0.0</td>\n",
       "      <td>0.0</td>\n",
       "      <td>0.0</td>\n",
       "      <td>0.0</td>\n",
       "      <td>0.0</td>\n",
       "    </tr>\n",
       "    <tr>\n",
       "      <th>TX</th>\n",
       "      <td>67.0</td>\n",
       "      <td>0.0</td>\n",
       "      <td>2121.0</td>\n",
       "      <td>568.0</td>\n",
       "      <td>568.0</td>\n",
       "      <td>55.0</td>\n",
       "      <td>502.0</td>\n",
       "      <td>47.0</td>\n",
       "      <td>101.0</td>\n",
       "      <td>48.0</td>\n",
       "      <td>8.0</td>\n",
       "      <td>14.0</td>\n",
       "    </tr>\n",
       "    <tr>\n",
       "      <th>UT</th>\n",
       "      <td>0.0</td>\n",
       "      <td>0.0</td>\n",
       "      <td>33.0</td>\n",
       "      <td>3.0</td>\n",
       "      <td>1.0</td>\n",
       "      <td>0.0</td>\n",
       "      <td>7.0</td>\n",
       "      <td>1.0</td>\n",
       "      <td>0.0</td>\n",
       "      <td>0.0</td>\n",
       "      <td>0.0</td>\n",
       "      <td>0.0</td>\n",
       "    </tr>\n",
       "    <tr>\n",
       "      <th>VA</th>\n",
       "      <td>9.0</td>\n",
       "      <td>0.0</td>\n",
       "      <td>60.0</td>\n",
       "      <td>110.0</td>\n",
       "      <td>187.0</td>\n",
       "      <td>8.0</td>\n",
       "      <td>86.0</td>\n",
       "      <td>14.0</td>\n",
       "      <td>15.0</td>\n",
       "      <td>7.0</td>\n",
       "      <td>0.0</td>\n",
       "      <td>0.0</td>\n",
       "    </tr>\n",
       "    <tr>\n",
       "      <th>WA</th>\n",
       "      <td>0.0</td>\n",
       "      <td>0.0</td>\n",
       "      <td>53.0</td>\n",
       "      <td>0.0</td>\n",
       "      <td>1.0</td>\n",
       "      <td>0.0</td>\n",
       "      <td>11.0</td>\n",
       "      <td>3.0</td>\n",
       "      <td>1.0</td>\n",
       "      <td>0.0</td>\n",
       "      <td>0.0</td>\n",
       "      <td>0.0</td>\n",
       "    </tr>\n",
       "  </tbody>\n",
       "</table>\n",
       "</div>"
      ],
      "text/plain": [
       "       Title_Machine  Title_Deep  Title_Analyst  Title_Engineer  \\\n",
       "State                                                             \n",
       "AZ               5.0         0.0          499.0           110.0   \n",
       "CA             131.0        10.0         1894.0           400.0   \n",
       "CO               0.0         0.0           96.0             1.0   \n",
       "DC               9.0         0.0            9.0            35.0   \n",
       "DE               0.0         0.0           48.0             3.0   \n",
       "FL               0.0         0.0           50.0            14.0   \n",
       "GA               0.0         0.0            4.0             0.0   \n",
       "IL              12.0         1.0          577.0            85.0   \n",
       "IN               0.0         0.0           23.0             0.0   \n",
       "KS               0.0         0.0            3.0             0.0   \n",
       "KY               0.0         0.0            0.0             0.0   \n",
       "MD               1.0         1.0            1.0            16.0   \n",
       "NC               0.0         0.0           90.0             2.0   \n",
       "NJ               2.0         0.0          181.0             6.0   \n",
       "NY              20.0         0.0          643.0            43.0   \n",
       "OH               6.0         0.0           64.0            51.0   \n",
       "PA               7.0         0.0          444.0            68.0   \n",
       "SC               0.0         0.0            3.0             0.0   \n",
       "TN               0.0         0.0            0.0             0.0   \n",
       "TX              67.0         0.0         2121.0           568.0   \n",
       "UT               0.0         0.0           33.0             3.0   \n",
       "VA               9.0         0.0           60.0           110.0   \n",
       "WA               0.0         0.0           53.0             0.0   \n",
       "\n",
       "       Title_Scientist  Title_Manager  Title_Senior  Title_Junior  Title_Lead  \\\n",
       "State                                                                           \n",
       "AZ                74.0           13.0         109.0          12.0        12.0   \n",
       "CA               935.0           76.0         649.0          46.0        62.0   \n",
       "CO                 0.0            0.0          13.0           4.0         3.0   \n",
       "DC                95.0            1.0          31.0           1.0         3.0   \n",
       "DE                 5.0            3.0           2.0           1.0         6.0   \n",
       "FL                21.0            2.0          13.0           8.0         3.0   \n",
       "GA                 0.0            0.0           0.0           2.0         0.0   \n",
       "IL               143.0           20.0         139.0          21.0        22.0   \n",
       "IN                 0.0            0.0           5.0           3.0         0.0   \n",
       "KS                 0.0            0.0           0.0           0.0         0.0   \n",
       "KY                 0.0            1.0           0.0           0.0         0.0   \n",
       "MD               139.0            4.0          34.0           2.0         1.0   \n",
       "NC                 0.0            0.0          10.0           2.0         0.0   \n",
       "NJ                23.0            3.0          37.0           1.0         3.0   \n",
       "NY               218.0           19.0         151.0           6.0        20.0   \n",
       "OH                88.0            5.0          29.0           6.0         6.0   \n",
       "PA               169.0           15.0         108.0          16.0        14.0   \n",
       "SC                 0.0            0.0           0.0           0.0         0.0   \n",
       "TN                 0.0            0.0           1.0           0.0         0.0   \n",
       "TX               568.0           55.0         502.0          47.0       101.0   \n",
       "UT                 1.0            0.0           7.0           1.0         0.0   \n",
       "VA               187.0            8.0          86.0          14.0        15.0   \n",
       "WA                 1.0            0.0          11.0           3.0         1.0   \n",
       "\n",
       "       Title_Principal  Title_Chief  Title_Intern  \n",
       "State                                              \n",
       "AZ                 7.0          0.0           5.0  \n",
       "CA                74.0          1.0          16.0  \n",
       "CO                 0.0          0.0           0.0  \n",
       "DC                 0.0          0.0           0.0  \n",
       "DE                 0.0          0.0           0.0  \n",
       "FL                 0.0          0.0           0.0  \n",
       "GA                 0.0          0.0           0.0  \n",
       "IL                 6.0          1.0           8.0  \n",
       "IN                 0.0          0.0           0.0  \n",
       "KS                 0.0          0.0           0.0  \n",
       "KY                 0.0          0.0           0.0  \n",
       "MD                 7.0          0.0           0.0  \n",
       "NC                 0.0          1.0           0.0  \n",
       "NJ                 0.0          0.0           2.0  \n",
       "NY                18.0          1.0          10.0  \n",
       "OH                 7.0          0.0           0.0  \n",
       "PA                19.0          0.0           4.0  \n",
       "SC                 0.0          0.0           0.0  \n",
       "TN                 0.0          0.0           0.0  \n",
       "TX                48.0          8.0          14.0  \n",
       "UT                 0.0          0.0           0.0  \n",
       "VA                 7.0          0.0           0.0  \n",
       "WA                 0.0          0.0           0.0  "
      ]
     },
     "execution_count": 20,
     "metadata": {},
     "output_type": "execute_result"
    }
   ],
   "source": [
    "titles.groupby('State').sum()"
   ]
  },
  {
   "cell_type": "markdown",
   "metadata": {},
   "source": [
    "Here we can see that GA has only 6 job postings, 4 of them being for Analysts.\n",
    "\n",
    "Now let's look at the average salary per tool (Python, R, Scala, etc):"
   ]
  },
  {
   "cell_type": "code",
   "execution_count": 21,
   "metadata": {},
   "outputs": [
    {
     "data": {
      "text/html": [
       "<div>\n",
       "<style scoped>\n",
       "    .dataframe tbody tr th:only-of-type {\n",
       "        vertical-align: middle;\n",
       "    }\n",
       "\n",
       "    .dataframe tbody tr th {\n",
       "        vertical-align: top;\n",
       "    }\n",
       "\n",
       "    .dataframe thead th {\n",
       "        text-align: right;\n",
       "    }\n",
       "</style>\n",
       "<table border=\"1\" class=\"dataframe\">\n",
       "  <thead>\n",
       "    <tr style=\"text-align: right;\">\n",
       "      <th></th>\n",
       "      <th>0</th>\n",
       "      <th>1</th>\n",
       "    </tr>\n",
       "  </thead>\n",
       "  <tbody>\n",
       "    <tr>\n",
       "      <th>R</th>\n",
       "      <td>89415.205745</td>\n",
       "      <td>100260.144686</td>\n",
       "    </tr>\n",
       "    <tr>\n",
       "      <th>Python</th>\n",
       "      <td>85064.486582</td>\n",
       "      <td>103465.278959</td>\n",
       "    </tr>\n",
       "    <tr>\n",
       "      <th>Julia</th>\n",
       "      <td>91063.650416</td>\n",
       "      <td>109067.885714</td>\n",
       "    </tr>\n",
       "    <tr>\n",
       "      <th>SQL</th>\n",
       "      <td>90283.717707</td>\n",
       "      <td>92128.913463</td>\n",
       "    </tr>\n",
       "    <tr>\n",
       "      <th>Scala</th>\n",
       "      <td>89352.178309</td>\n",
       "      <td>100724.935284</td>\n",
       "    </tr>\n",
       "    <tr>\n",
       "      <th>JavaScript</th>\n",
       "      <td>91191.846532</td>\n",
       "      <td>89349.522026</td>\n",
       "    </tr>\n",
       "    <tr>\n",
       "      <th>Avg_Salary</th>\n",
       "      <td>NaN</td>\n",
       "      <td>NaN</td>\n",
       "    </tr>\n",
       "  </tbody>\n",
       "</table>\n",
       "</div>"
      ],
      "text/plain": [
       "                       0              1\n",
       "R           89415.205745  100260.144686\n",
       "Python      85064.486582  103465.278959\n",
       "Julia       91063.650416  109067.885714\n",
       "SQL         90283.717707   92128.913463\n",
       "Scala       89352.178309  100724.935284\n",
       "JavaScript  91191.846532   89349.522026\n",
       "Avg_Salary           NaN            NaN"
      ]
     },
     "execution_count": 21,
     "metadata": {},
     "output_type": "execute_result"
    }
   ],
   "source": [
    "tool = data.iloc[:,17:23].copy()\n",
    "tool['Avg_Salary'] = data.Avg_Salary\n",
    "average={}\n",
    "for column in tool.columns:\n",
    "    average[column] ={'0': tool.loc[tool[column]==0, 'Avg_Salary'].mean(), '1':tool.loc[tool[column]==1, 'Avg_Salary'].mean()}\n",
    "pd.DataFrame(average).T"
   ]
  },
  {
   "cell_type": "code",
   "execution_count": 22,
   "metadata": {},
   "outputs": [
    {
     "data": {
      "text/html": [
       "<div>\n",
       "<style scoped>\n",
       "    .dataframe tbody tr th:only-of-type {\n",
       "        vertical-align: middle;\n",
       "    }\n",
       "\n",
       "    .dataframe tbody tr th {\n",
       "        vertical-align: top;\n",
       "    }\n",
       "\n",
       "    .dataframe thead th {\n",
       "        text-align: right;\n",
       "    }\n",
       "</style>\n",
       "<table border=\"1\" class=\"dataframe\">\n",
       "  <thead>\n",
       "    <tr style=\"text-align: right;\">\n",
       "      <th></th>\n",
       "      <th>R</th>\n",
       "      <th>Python</th>\n",
       "      <th>Julia</th>\n",
       "      <th>SQL</th>\n",
       "      <th>Scala</th>\n",
       "      <th>JavaScript</th>\n",
       "    </tr>\n",
       "    <tr>\n",
       "      <th>State</th>\n",
       "      <th></th>\n",
       "      <th></th>\n",
       "      <th></th>\n",
       "      <th></th>\n",
       "      <th></th>\n",
       "      <th></th>\n",
       "    </tr>\n",
       "  </thead>\n",
       "  <tbody>\n",
       "    <tr>\n",
       "      <th>CA</th>\n",
       "      <td>561.0</td>\n",
       "      <td>1176.0</td>\n",
       "      <td>6.0</td>\n",
       "      <td>1435.0</td>\n",
       "      <td>516.0</td>\n",
       "      <td>116.0</td>\n",
       "    </tr>\n",
       "    <tr>\n",
       "      <th>TX</th>\n",
       "      <td>475.0</td>\n",
       "      <td>994.0</td>\n",
       "      <td>11.0</td>\n",
       "      <td>1510.0</td>\n",
       "      <td>569.0</td>\n",
       "      <td>145.0</td>\n",
       "    </tr>\n",
       "    <tr>\n",
       "      <th>NY</th>\n",
       "      <td>167.0</td>\n",
       "      <td>401.0</td>\n",
       "      <td>6.0</td>\n",
       "      <td>486.0</td>\n",
       "      <td>121.0</td>\n",
       "      <td>22.0</td>\n",
       "    </tr>\n",
       "    <tr>\n",
       "      <th>IL</th>\n",
       "      <td>148.0</td>\n",
       "      <td>305.0</td>\n",
       "      <td>1.0</td>\n",
       "      <td>407.0</td>\n",
       "      <td>122.0</td>\n",
       "      <td>21.0</td>\n",
       "    </tr>\n",
       "    <tr>\n",
       "      <th>AZ</th>\n",
       "      <td>74.0</td>\n",
       "      <td>176.0</td>\n",
       "      <td>0.0</td>\n",
       "      <td>330.0</td>\n",
       "      <td>120.0</td>\n",
       "      <td>30.0</td>\n",
       "    </tr>\n",
       "    <tr>\n",
       "      <th>VA</th>\n",
       "      <td>85.0</td>\n",
       "      <td>174.0</td>\n",
       "      <td>7.0</td>\n",
       "      <td>138.0</td>\n",
       "      <td>85.0</td>\n",
       "      <td>25.0</td>\n",
       "    </tr>\n",
       "    <tr>\n",
       "      <th>PA</th>\n",
       "      <td>108.0</td>\n",
       "      <td>172.0</td>\n",
       "      <td>0.0</td>\n",
       "      <td>309.0</td>\n",
       "      <td>85.0</td>\n",
       "      <td>16.0</td>\n",
       "    </tr>\n",
       "    <tr>\n",
       "      <th>OH</th>\n",
       "      <td>45.0</td>\n",
       "      <td>86.0</td>\n",
       "      <td>0.0</td>\n",
       "      <td>94.0</td>\n",
       "      <td>31.0</td>\n",
       "      <td>13.0</td>\n",
       "    </tr>\n",
       "    <tr>\n",
       "      <th>DC</th>\n",
       "      <td>40.0</td>\n",
       "      <td>74.0</td>\n",
       "      <td>2.0</td>\n",
       "      <td>60.0</td>\n",
       "      <td>33.0</td>\n",
       "      <td>10.0</td>\n",
       "    </tr>\n",
       "    <tr>\n",
       "      <th>MD</th>\n",
       "      <td>30.0</td>\n",
       "      <td>58.0</td>\n",
       "      <td>1.0</td>\n",
       "      <td>26.0</td>\n",
       "      <td>22.0</td>\n",
       "      <td>7.0</td>\n",
       "    </tr>\n",
       "    <tr>\n",
       "      <th>NJ</th>\n",
       "      <td>23.0</td>\n",
       "      <td>46.0</td>\n",
       "      <td>1.0</td>\n",
       "      <td>95.0</td>\n",
       "      <td>29.0</td>\n",
       "      <td>5.0</td>\n",
       "    </tr>\n",
       "    <tr>\n",
       "      <th>CO</th>\n",
       "      <td>8.0</td>\n",
       "      <td>23.0</td>\n",
       "      <td>0.0</td>\n",
       "      <td>60.0</td>\n",
       "      <td>10.0</td>\n",
       "      <td>10.0</td>\n",
       "    </tr>\n",
       "    <tr>\n",
       "      <th>NC</th>\n",
       "      <td>4.0</td>\n",
       "      <td>18.0</td>\n",
       "      <td>0.0</td>\n",
       "      <td>56.0</td>\n",
       "      <td>10.0</td>\n",
       "      <td>8.0</td>\n",
       "    </tr>\n",
       "    <tr>\n",
       "      <th>FL</th>\n",
       "      <td>12.0</td>\n",
       "      <td>18.0</td>\n",
       "      <td>0.0</td>\n",
       "      <td>67.0</td>\n",
       "      <td>8.0</td>\n",
       "      <td>12.0</td>\n",
       "    </tr>\n",
       "    <tr>\n",
       "      <th>UT</th>\n",
       "      <td>4.0</td>\n",
       "      <td>16.0</td>\n",
       "      <td>0.0</td>\n",
       "      <td>21.0</td>\n",
       "      <td>1.0</td>\n",
       "      <td>0.0</td>\n",
       "    </tr>\n",
       "    <tr>\n",
       "      <th>WA</th>\n",
       "      <td>3.0</td>\n",
       "      <td>11.0</td>\n",
       "      <td>0.0</td>\n",
       "      <td>38.0</td>\n",
       "      <td>4.0</td>\n",
       "      <td>3.0</td>\n",
       "    </tr>\n",
       "    <tr>\n",
       "      <th>DE</th>\n",
       "      <td>7.0</td>\n",
       "      <td>10.0</td>\n",
       "      <td>0.0</td>\n",
       "      <td>21.0</td>\n",
       "      <td>8.0</td>\n",
       "      <td>2.0</td>\n",
       "    </tr>\n",
       "    <tr>\n",
       "      <th>IN</th>\n",
       "      <td>3.0</td>\n",
       "      <td>6.0</td>\n",
       "      <td>0.0</td>\n",
       "      <td>19.0</td>\n",
       "      <td>2.0</td>\n",
       "      <td>5.0</td>\n",
       "    </tr>\n",
       "    <tr>\n",
       "      <th>KY</th>\n",
       "      <td>0.0</td>\n",
       "      <td>0.0</td>\n",
       "      <td>0.0</td>\n",
       "      <td>0.0</td>\n",
       "      <td>0.0</td>\n",
       "      <td>0.0</td>\n",
       "    </tr>\n",
       "    <tr>\n",
       "      <th>KS</th>\n",
       "      <td>0.0</td>\n",
       "      <td>0.0</td>\n",
       "      <td>0.0</td>\n",
       "      <td>0.0</td>\n",
       "      <td>0.0</td>\n",
       "      <td>0.0</td>\n",
       "    </tr>\n",
       "    <tr>\n",
       "      <th>GA</th>\n",
       "      <td>0.0</td>\n",
       "      <td>0.0</td>\n",
       "      <td>0.0</td>\n",
       "      <td>3.0</td>\n",
       "      <td>0.0</td>\n",
       "      <td>3.0</td>\n",
       "    </tr>\n",
       "    <tr>\n",
       "      <th>SC</th>\n",
       "      <td>0.0</td>\n",
       "      <td>0.0</td>\n",
       "      <td>0.0</td>\n",
       "      <td>2.0</td>\n",
       "      <td>1.0</td>\n",
       "      <td>1.0</td>\n",
       "    </tr>\n",
       "    <tr>\n",
       "      <th>TN</th>\n",
       "      <td>0.0</td>\n",
       "      <td>0.0</td>\n",
       "      <td>0.0</td>\n",
       "      <td>0.0</td>\n",
       "      <td>0.0</td>\n",
       "      <td>0.0</td>\n",
       "    </tr>\n",
       "  </tbody>\n",
       "</table>\n",
       "</div>"
      ],
      "text/plain": [
       "           R  Python  Julia     SQL  Scala  JavaScript\n",
       "State                                                 \n",
       "CA     561.0  1176.0    6.0  1435.0  516.0       116.0\n",
       "TX     475.0   994.0   11.0  1510.0  569.0       145.0\n",
       "NY     167.0   401.0    6.0   486.0  121.0        22.0\n",
       "IL     148.0   305.0    1.0   407.0  122.0        21.0\n",
       "AZ      74.0   176.0    0.0   330.0  120.0        30.0\n",
       "VA      85.0   174.0    7.0   138.0   85.0        25.0\n",
       "PA     108.0   172.0    0.0   309.0   85.0        16.0\n",
       "OH      45.0    86.0    0.0    94.0   31.0        13.0\n",
       "DC      40.0    74.0    2.0    60.0   33.0        10.0\n",
       "MD      30.0    58.0    1.0    26.0   22.0         7.0\n",
       "NJ      23.0    46.0    1.0    95.0   29.0         5.0\n",
       "CO       8.0    23.0    0.0    60.0   10.0        10.0\n",
       "NC       4.0    18.0    0.0    56.0   10.0         8.0\n",
       "FL      12.0    18.0    0.0    67.0    8.0        12.0\n",
       "UT       4.0    16.0    0.0    21.0    1.0         0.0\n",
       "WA       3.0    11.0    0.0    38.0    4.0         3.0\n",
       "DE       7.0    10.0    0.0    21.0    8.0         2.0\n",
       "IN       3.0     6.0    0.0    19.0    2.0         5.0\n",
       "KY       0.0     0.0    0.0     0.0    0.0         0.0\n",
       "KS       0.0     0.0    0.0     0.0    0.0         0.0\n",
       "GA       0.0     0.0    0.0     3.0    0.0         3.0\n",
       "SC       0.0     0.0    0.0     2.0    1.0         1.0\n",
       "TN       0.0     0.0    0.0     0.0    0.0         0.0"
      ]
     },
     "execution_count": 22,
     "metadata": {},
     "output_type": "execute_result"
    }
   ],
   "source": [
    "tool['State'] = data.State\n",
    "tool.drop(columns='Avg_Salary').groupby('State').sum().sort_values(by='Python', ascending=False)"
   ]
  },
  {
   "cell_type": "markdown",
   "metadata": {},
   "source": [
    "Julia and Python seem to have the most positive correlation with average salary. SQL and Scala seem to not make a significant difference. JavaScript is actually negatively correlated... Also, if you know Python, you have better chances of finding a job in CA."
   ]
  },
  {
   "cell_type": "markdown",
   "metadata": {},
   "source": [
    "Now, let's run SelectKBest to better understand which variables explain the salary best"
   ]
  },
  {
   "cell_type": "code",
   "execution_count": 23,
   "metadata": {},
   "outputs": [],
   "source": [
    "df= data.iloc[:,17:].copy()\n",
    "df.drop('Avg_Salary', axis=1,inplace=True)\n",
    "df['In_Headquarters'] = data.In_Headquarters\n",
    "df=df.astype('category')"
   ]
  },
  {
   "cell_type": "code",
   "execution_count": 26,
   "metadata": {
    "scrolled": true
   },
   "outputs": [
    {
     "name": "stdout",
     "output_type": "stream",
     "text": [
      "<class 'pandas.core.frame.DataFrame'>\n",
      "RangeIndex: 11440 entries, 0 to 11439\n",
      "Data columns (total 122 columns):\n",
      " #   Column                              Non-Null Count  Dtype   \n",
      "---  ------                              --------------  -----   \n",
      " 0   R                                   11440 non-null  category\n",
      " 1   Python                              11440 non-null  category\n",
      " 2   Julia                               11440 non-null  category\n",
      " 3   SQL                                 11440 non-null  category\n",
      " 4   Scala                               11440 non-null  category\n",
      " 5   JavaScript                          11440 non-null  category\n",
      " 6   Title_Machine                       11440 non-null  category\n",
      " 7   Title_Deep                          11440 non-null  category\n",
      " 8   Title_Analyst                       11440 non-null  category\n",
      " 9   Title_Engineer                      11440 non-null  category\n",
      " 10  Title_Scientist                     11440 non-null  category\n",
      " 11  Title_Manager                       11440 non-null  category\n",
      " 12  Title_Senior                        11440 non-null  category\n",
      " 13  Title_Junior                        11440 non-null  category\n",
      " 14  Title_Lead                          11440 non-null  category\n",
      " 15  Title_Principal                     11440 non-null  category\n",
      " 16  Title_Chief                         11440 non-null  category\n",
      " 17  Title_Intern                        11440 non-null  category\n",
      " 18  Employer_Estimate                   11440 non-null  category\n",
      " 19  Size_ord                            11440 non-null  category\n",
      " 20  Revenue_ord                         11440 non-null  category\n",
      " 21  Rating                              11440 non-null  category\n",
      " 22  AZ                                  11440 non-null  category\n",
      " 23  CA                                  11440 non-null  category\n",
      " 24  CO                                  11440 non-null  category\n",
      " 25  DC                                  11440 non-null  category\n",
      " 26  DE                                  11440 non-null  category\n",
      " 27  FL                                  11440 non-null  category\n",
      " 28  GA                                  11440 non-null  category\n",
      " 29  IL                                  11440 non-null  category\n",
      " 30  IN                                  11440 non-null  category\n",
      " 31  KS                                  11440 non-null  category\n",
      " 32  KY                                  11440 non-null  category\n",
      " 33  MD                                  11440 non-null  category\n",
      " 34  NC                                  11440 non-null  category\n",
      " 35  NJ                                  11440 non-null  category\n",
      " 36  NY                                  11440 non-null  category\n",
      " 37  OH                                  11440 non-null  category\n",
      " 38  PA                                  11440 non-null  category\n",
      " 39  SC                                  11440 non-null  category\n",
      " 40  TN                                  11440 non-null  category\n",
      " 41  TX                                  11440 non-null  category\n",
      " 42  UT                                  11440 non-null  category\n",
      " 43  VA                                  11440 non-null  category\n",
      " 44  WA                                  11440 non-null  category\n",
      " 45  Accounting & Legal                  11440 non-null  category\n",
      " 46  Aerospace & Defense                 11440 non-null  category\n",
      " 47  Agriculture & Forestry              11440 non-null  category\n",
      " 48  Arts, Entertainment & Recreation    11440 non-null  category\n",
      " 49  Biotech & Pharmaceuticals           11440 non-null  category\n",
      " 50  Business Services                   11440 non-null  category\n",
      " 51  Construction, Repair & Maintenance  11440 non-null  category\n",
      " 52  Consumer Services                   11440 non-null  category\n",
      " 53  Education                           11440 non-null  category\n",
      " 54  Finance                             11440 non-null  category\n",
      " 55  Government                          11440 non-null  category\n",
      " 56  Health Care                         11440 non-null  category\n",
      " 57  Information Technology              11440 non-null  category\n",
      " 58  Insurance                           11440 non-null  category\n",
      " 59  Manufacturing                       11440 non-null  category\n",
      " 60  Media                               11440 non-null  category\n",
      " 61  Mining & Metals                     11440 non-null  category\n",
      " 62  Non-Profit                          11440 non-null  category\n",
      " 63  Oil, Gas, Energy & Utilities        11440 non-null  category\n",
      " 64  Real Estate                         11440 non-null  category\n",
      " 65  Restaurants, Bars & Food Services   11440 non-null  category\n",
      " 66  Retail                              11440 non-null  category\n",
      " 67  Telecommunications                  11440 non-null  category\n",
      " 68  Transportation & Logistics          11440 non-null  category\n",
      " 69  Travel & Tourism                    11440 non-null  category\n",
      " 70  Austin                              11440 non-null  category\n",
      " 71  New York                            11440 non-null  category\n",
      " 72  Chicago                             11440 non-null  category\n",
      " 73  San Diego                           11440 non-null  category\n",
      " 74  Houston                             11440 non-null  category\n",
      " 75  San Antonio                         11440 non-null  category\n",
      " 76  Dallas                              11440 non-null  category\n",
      " 77  Philadelphia                        11440 non-null  category\n",
      " 78  Los Angeles                         11440 non-null  category\n",
      " 79  San Francisco                       11440 non-null  category\n",
      " 80  Phoenix                             11440 non-null  category\n",
      " 81  San Jose                            11440 non-null  category\n",
      " 82  Irving                              11440 non-null  category\n",
      " 83  Columbus                            11440 non-null  category\n",
      " 84  Plano                               11440 non-null  category\n",
      " 85  Tempe                               11440 non-null  category\n",
      " 86  Washington                          11440 non-null  category\n",
      " 87  Santa Clara                         11440 non-null  category\n",
      " 88  Sunnyvale                           11440 non-null  category\n",
      " 89  South San Francisco                 11440 non-null  category\n",
      " 90  Arlington                           11440 non-null  category\n",
      " 91  Scottsdale                          11440 non-null  category\n",
      " 92  Jacksonville                        11440 non-null  category\n",
      " 93  Palo Alto                           11440 non-null  category\n",
      " 94  Charlotte                           11440 non-null  category\n",
      " 95  Redwood City                        11440 non-null  category\n",
      " 96  Staffigo Technical Services, LLC    11440 non-null  category\n",
      " 97  Apple                               11440 non-null  category\n",
      " 98  Amazon                              11440 non-null  category\n",
      " 99  Diverse Lynx                        11440 non-null  category\n",
      " 100 IBM                                 11440 non-null  category\n",
      " 101 Kforce                              11440 non-null  category\n",
      " 102 Genentech                           11440 non-null  category\n",
      " 103 Solekai Systems Corp                11440 non-null  category\n",
      " 104 Lorven Technologies Inc             11440 non-null  category\n",
      " 105 Facebook                            11440 non-null  category\n",
      " 106 Apex Systems                        11440 non-null  category\n",
      " 107 Mondo                               11440 non-null  category\n",
      " 108 USAA                                11440 non-null  category\n",
      " 109 MUFG                                11440 non-null  category\n",
      " 110 Randstad                            11440 non-null  category\n",
      " 111 Robert Half                         11440 non-null  category\n",
      " 112 eTeam Inc                           11440 non-null  category\n",
      " 113 Southwest Research Institute        11440 non-null  category\n",
      " 114 Leidos                              11440 non-null  category\n",
      " 115 Booz Allen Hamilton Inc             11440 non-null  category\n",
      " 116 Kforce Technology Staffing          11440 non-null  category\n",
      " 117 UC San Diego                        11440 non-null  category\n",
      " 118 Google                              11440 non-null  category\n",
      " 119 Guidehouse                          11440 non-null  category\n",
      " 120 CyberCoders                         11440 non-null  category\n",
      " 121 In_Headquarters                     11440 non-null  category\n",
      "dtypes: category(122)\n",
      "memory usage: 1.3 MB\n"
     ]
    }
   ],
   "source": [
    "df.info(verbose=True, null_counts=True)"
   ]
  },
  {
   "cell_type": "code",
   "execution_count": 25,
   "metadata": {},
   "outputs": [
    {
     "name": "stderr",
     "output_type": "stream",
     "text": [
      "c:\\users\\ronal\\appdata\\local\\programs\\python\\python39\\lib\\site-packages\\sklearn\\feature_selection\\_univariate_selection.py:116: RuntimeWarning: divide by zero encountered in true_divide\n",
      "  f = msb / msw\n"
     ]
    }
   ],
   "source": [
    "from sklearn.feature_selection import SelectKBest, f_classif\n",
    "features= SelectKBest(f_classif, k=20).fit(df, data.Avg_Salary)"
   ]
  },
  {
   "cell_type": "code",
   "execution_count": 23,
   "metadata": {},
   "outputs": [
    {
     "data": {
      "text/plain": [
       "Index(['Title_Deep', 'Title_Analyst', 'Title_Engineer', 'Title_Scientist',\n",
       "       'Employer_Estimate', 'AZ', 'CA', 'DC', 'GA', 'IL', 'IN', 'KY', 'MD',\n",
       "       'NY', 'OH', 'TN', 'TX', 'UT', 'VA', 'WA'],\n",
       "      dtype='object')"
      ]
     },
     "execution_count": 23,
     "metadata": {},
     "output_type": "execute_result"
    }
   ],
   "source": [
    "df.columns[features.get_support()]"
   ]
  },
  {
   "cell_type": "code",
   "execution_count": 33,
   "metadata": {},
   "outputs": [
    {
     "name": "stdout",
     "output_type": "stream",
     "text": [
      "<class 'pandas.core.frame.DataFrame'>\n",
      "RangeIndex: 11440 entries, 0 to 11439\n",
      "Data columns (total 25 columns):\n",
      " #   Column                            Non-Null Count  Dtype   \n",
      "---  ------                            --------------  -----   \n",
      " 0   Staffigo Technical Services, LLC  11440 non-null  category\n",
      " 1   Apple                             11440 non-null  category\n",
      " 2   Amazon                            11440 non-null  category\n",
      " 3   Diverse Lynx                      11440 non-null  category\n",
      " 4   IBM                               11440 non-null  category\n",
      " 5   Kforce                            11440 non-null  category\n",
      " 6   Genentech                         11440 non-null  category\n",
      " 7   Solekai Systems Corp              11440 non-null  category\n",
      " 8   Lorven Technologies Inc           11440 non-null  category\n",
      " 9   Facebook                          11440 non-null  category\n",
      " 10  Apex Systems                      11440 non-null  category\n",
      " 11  Mondo                             11440 non-null  category\n",
      " 12  USAA                              11440 non-null  category\n",
      " 13  MUFG                              11440 non-null  category\n",
      " 14  Randstad                          11440 non-null  category\n",
      " 15  Robert Half                       11440 non-null  category\n",
      " 16  eTeam Inc                         11440 non-null  category\n",
      " 17  Southwest Research Institute      11440 non-null  category\n",
      " 18  Leidos                            11440 non-null  category\n",
      " 19  Booz Allen Hamilton Inc           11440 non-null  category\n",
      " 20  Kforce Technology Staffing        11440 non-null  category\n",
      " 21  UC San Diego                      11440 non-null  category\n",
      " 22  Google                            11440 non-null  category\n",
      " 23  Guidehouse                        11440 non-null  category\n",
      " 24  CyberCoders                       11440 non-null  category\n",
      "dtypes: category(25)\n",
      "memory usage: 281.8 KB\n"
     ]
    }
   ],
   "source": [
    "df_company = df.iloc[:,96:121].copy()\n",
    "df_company.info()"
   ]
  },
  {
   "cell_type": "code",
   "execution_count": 37,
   "metadata": {},
   "outputs": [
    {
     "name": "stderr",
     "output_type": "stream",
     "text": [
      "c:\\users\\ronal\\appdata\\local\\programs\\python\\python39\\lib\\site-packages\\sklearn\\utils\\validation.py:63: FutureWarning: Arrays of bytes/strings is being converted to decimal numbers if dtype='numeric'. This behavior is deprecated in 0.24 and will be removed in 1.1 (renaming of 0.26). Please convert your data to numeric values explicitly instead.\n",
      "  return f(*args, **kwargs)\n"
     ]
    },
    {
     "data": {
      "text/plain": [
       "Index(['Apple', 'Amazon', 'Genentech', 'Solekai Systems Corp', 'Facebook',\n",
       "       'USAA', 'Southwest Research Institute', 'Leidos',\n",
       "       'Booz Allen Hamilton Inc', 'Guidehouse'],\n",
       "      dtype='object')"
      ]
     },
     "execution_count": 37,
     "metadata": {},
     "output_type": "execute_result"
    }
   ],
   "source": [
    "features_company = SelectKBest(f_classif, k=10).fit(df_company, data.Avg_Salary)\n",
    "df_company.columns[features_company.get_support()]"
   ]
  },
  {
   "cell_type": "code",
   "execution_count": 35,
   "metadata": {},
   "outputs": [
    {
     "name": "stdout",
     "output_type": "stream",
     "text": [
      "<class 'pandas.core.frame.DataFrame'>\n",
      "RangeIndex: 11440 entries, 0 to 11439\n",
      "Data columns (total 26 columns):\n",
      " #   Column               Non-Null Count  Dtype   \n",
      "---  ------               --------------  -----   \n",
      " 0   Austin               11440 non-null  category\n",
      " 1   New York             11440 non-null  category\n",
      " 2   Chicago              11440 non-null  category\n",
      " 3   San Diego            11440 non-null  category\n",
      " 4   Houston              11440 non-null  category\n",
      " 5   San Antonio          11440 non-null  category\n",
      " 6   Dallas               11440 non-null  category\n",
      " 7   Philadelphia         11440 non-null  category\n",
      " 8   Los Angeles          11440 non-null  category\n",
      " 9   San Francisco        11440 non-null  category\n",
      " 10  Phoenix              11440 non-null  category\n",
      " 11  San Jose             11440 non-null  category\n",
      " 12  Irving               11440 non-null  category\n",
      " 13  Columbus             11440 non-null  category\n",
      " 14  Plano                11440 non-null  category\n",
      " 15  Tempe                11440 non-null  category\n",
      " 16  Washington           11440 non-null  category\n",
      " 17  Santa Clara          11440 non-null  category\n",
      " 18  Sunnyvale            11440 non-null  category\n",
      " 19  South San Francisco  11440 non-null  category\n",
      " 20  Arlington            11440 non-null  category\n",
      " 21  Scottsdale           11440 non-null  category\n",
      " 22  Jacksonville         11440 non-null  category\n",
      " 23  Palo Alto            11440 non-null  category\n",
      " 24  Charlotte            11440 non-null  category\n",
      " 25  Redwood City         11440 non-null  category\n",
      "dtypes: category(26)\n",
      "memory usage: 293.0 KB\n"
     ]
    }
   ],
   "source": [
    "df_city = df.iloc[:,70:96].copy()\n",
    "df_city.info()"
   ]
  },
  {
   "cell_type": "code",
   "execution_count": 38,
   "metadata": {},
   "outputs": [
    {
     "name": "stderr",
     "output_type": "stream",
     "text": [
      "c:\\users\\ronal\\appdata\\local\\programs\\python\\python39\\lib\\site-packages\\sklearn\\utils\\validation.py:63: FutureWarning: Arrays of bytes/strings is being converted to decimal numbers if dtype='numeric'. This behavior is deprecated in 0.24 and will be removed in 1.1 (renaming of 0.26). Please convert your data to numeric values explicitly instead.\n",
      "  return f(*args, **kwargs)\n"
     ]
    },
    {
     "data": {
      "text/plain": [
       "Index(['Austin', 'New York', 'San Diego', 'Houston', 'San Antonio',\n",
       "       'San Francisco', 'Columbus', 'Washington', 'South San Francisco',\n",
       "       'Arlington'],\n",
       "      dtype='object')"
      ]
     },
     "execution_count": 38,
     "metadata": {},
     "output_type": "execute_result"
    }
   ],
   "source": [
    "features_city = SelectKBest(f_classif, k=10).fit(df_city, data.Avg_Salary)\n",
    "df_city.columns[features_city.get_support()]"
   ]
  },
  {
   "cell_type": "code",
   "execution_count": null,
   "metadata": {},
   "outputs": [],
   "source": []
  }
 ],
 "metadata": {
  "kernelspec": {
   "display_name": "Python 3",
   "language": "python",
   "name": "python3"
  },
  "language_info": {
   "codemirror_mode": {
    "name": "ipython",
    "version": 3
   },
   "file_extension": ".py",
   "mimetype": "text/x-python",
   "name": "python",
   "nbconvert_exporter": "python",
   "pygments_lexer": "ipython3",
   "version": "3.9.0"
  }
 },
 "nbformat": 4,
 "nbformat_minor": 4
}
