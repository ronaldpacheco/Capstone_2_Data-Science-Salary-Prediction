{
 "cells": [
  {
   "cell_type": "markdown",
   "metadata": {},
   "source": [
    "# Modeling\n",
    "\n",
    "Since this is a regression problem, we will be using the following models:\n",
    " - RandomForestRegressor\n",
    " - Lasso\n",
    " - XGBoost\n",
    " - LinearRegression\n",
    " - OLS\n",
    "\n",
    "We will perform hyperparameter tunning for at least three of these models and pick the best performing model."
   ]
  },
  {
   "cell_type": "markdown",
   "metadata": {},
   "source": [
    "Let us import all the necessary packages:"
   ]
  },
  {
   "cell_type": "code",
   "execution_count": 50,
   "metadata": {},
   "outputs": [],
   "source": [
    "import numpy as np\n",
    "import pandas as pd\n",
    "import matplotlib.pyplot as plt\n",
    "import seaborn as sns\n",
    "from sklearn.model_selection import train_test_split, cross_validate, GridSearchCV, RandomizedSearchCV\n",
    "from sklearn.pipeline import make_pipeline\n",
    "from sklearn.ensemble import RandomForestRegressor\n",
    "from sklearn.metrics import mean_absolute_error\n",
    "from sklearn.linear_model import Lasso, LinearRegression\n",
    "import xgboost as xg\n",
    "from sklearn.feature_selection import SelectKBest, f_classif\n",
    "import statsmodels.api as sm\n",
    "import pickle\n",
    "import datetime"
   ]
  },
  {
   "cell_type": "code",
   "execution_count": 2,
   "metadata": {},
   "outputs": [],
   "source": [
    "plt.style.use('ggplot')\n",
    "sns.set_palette(palette='Set1')\n",
    "sns.set_style(\"darkgrid\")"
   ]
  },
  {
   "cell_type": "markdown",
   "metadata": {},
   "source": [
    "Read in our data:"
   ]
  },
  {
   "cell_type": "code",
   "execution_count": 3,
   "metadata": {},
   "outputs": [],
   "source": [
    "df = pd.read_csv('Modeling_data.csv')"
   ]
  },
  {
   "cell_type": "code",
   "execution_count": 4,
   "metadata": {
    "scrolled": true
   },
   "outputs": [
    {
     "name": "stdout",
     "output_type": "stream",
     "text": [
      "<class 'pandas.core.frame.DataFrame'>\n",
      "RangeIndex: 11440 entries, 0 to 11439\n",
      "Data columns (total 124 columns):\n",
      " #   Column                              Non-Null Count  Dtype  \n",
      "---  ------                              --------------  -----  \n",
      " 0   Unnamed: 0                          11440 non-null  int64  \n",
      " 1   R                                   11440 non-null  float64\n",
      " 2   Python                              11440 non-null  float64\n",
      " 3   Julia                               11440 non-null  float64\n",
      " 4   SQL                                 11440 non-null  float64\n",
      " 5   Scala                               11440 non-null  float64\n",
      " 6   JavaScript                          11440 non-null  float64\n",
      " 7   Title_Machine                       11440 non-null  float64\n",
      " 8   Title_Deep                          11440 non-null  float64\n",
      " 9   Title_Analyst                       11440 non-null  float64\n",
      " 10  Title_Engineer                      11440 non-null  float64\n",
      " 11  Title_Scientist                     11440 non-null  float64\n",
      " 12  Title_Manager                       11440 non-null  float64\n",
      " 13  Title_Senior                        11440 non-null  float64\n",
      " 14  Title_Junior                        11440 non-null  float64\n",
      " 15  Title_Lead                          11440 non-null  float64\n",
      " 16  Title_Principal                     11440 non-null  float64\n",
      " 17  Title_Chief                         11440 non-null  float64\n",
      " 18  Title_Intern                        11440 non-null  float64\n",
      " 19  Employer_Estimate                   11440 non-null  float64\n",
      " 20  Size_ord                            11440 non-null  float64\n",
      " 21  Revenue_ord                         11440 non-null  float64\n",
      " 22  Rating                              11440 non-null  float64\n",
      " 23  AZ                                  11440 non-null  int64  \n",
      " 24  CA                                  11440 non-null  int64  \n",
      " 25  CO                                  11440 non-null  int64  \n",
      " 26  DC                                  11440 non-null  int64  \n",
      " 27  DE                                  11440 non-null  int64  \n",
      " 28  FL                                  11440 non-null  int64  \n",
      " 29  GA                                  11440 non-null  int64  \n",
      " 30  IL                                  11440 non-null  int64  \n",
      " 31  IN                                  11440 non-null  int64  \n",
      " 32  KS                                  11440 non-null  int64  \n",
      " 33  KY                                  11440 non-null  int64  \n",
      " 34  MD                                  11440 non-null  int64  \n",
      " 35  NC                                  11440 non-null  int64  \n",
      " 36  NJ                                  11440 non-null  int64  \n",
      " 37  NY                                  11440 non-null  int64  \n",
      " 38  OH                                  11440 non-null  int64  \n",
      " 39  PA                                  11440 non-null  int64  \n",
      " 40  SC                                  11440 non-null  int64  \n",
      " 41  TN                                  11440 non-null  int64  \n",
      " 42  TX                                  11440 non-null  int64  \n",
      " 43  UT                                  11440 non-null  int64  \n",
      " 44  VA                                  11440 non-null  int64  \n",
      " 45  WA                                  11440 non-null  int64  \n",
      " 46  Accounting & Legal                  11440 non-null  int64  \n",
      " 47  Aerospace & Defense                 11440 non-null  int64  \n",
      " 48  Agriculture & Forestry              11440 non-null  int64  \n",
      " 49  Arts, Entertainment & Recreation    11440 non-null  int64  \n",
      " 50  Biotech & Pharmaceuticals           11440 non-null  int64  \n",
      " 51  Business Services                   11440 non-null  int64  \n",
      " 52  Construction, Repair & Maintenance  11440 non-null  int64  \n",
      " 53  Consumer Services                   11440 non-null  int64  \n",
      " 54  Education                           11440 non-null  int64  \n",
      " 55  Finance                             11440 non-null  int64  \n",
      " 56  Government                          11440 non-null  int64  \n",
      " 57  Health Care                         11440 non-null  int64  \n",
      " 58  Information Technology              11440 non-null  int64  \n",
      " 59  Insurance                           11440 non-null  int64  \n",
      " 60  Manufacturing                       11440 non-null  int64  \n",
      " 61  Media                               11440 non-null  int64  \n",
      " 62  Mining & Metals                     11440 non-null  int64  \n",
      " 63  Non-Profit                          11440 non-null  int64  \n",
      " 64  Oil, Gas, Energy & Utilities        11440 non-null  int64  \n",
      " 65  Real Estate                         11440 non-null  int64  \n",
      " 66  Restaurants, Bars & Food Services   11440 non-null  int64  \n",
      " 67  Retail                              11440 non-null  int64  \n",
      " 68  Telecommunications                  11440 non-null  int64  \n",
      " 69  Transportation & Logistics          11440 non-null  int64  \n",
      " 70  Travel & Tourism                    11440 non-null  int64  \n",
      " 71  Austin                              11440 non-null  int64  \n",
      " 72  New York                            11440 non-null  int64  \n",
      " 73  Chicago                             11440 non-null  int64  \n",
      " 74  San Diego                           11440 non-null  int64  \n",
      " 75  Houston                             11440 non-null  int64  \n",
      " 76  San Antonio                         11440 non-null  int64  \n",
      " 77  Dallas                              11440 non-null  int64  \n",
      " 78  Philadelphia                        11440 non-null  int64  \n",
      " 79  Los Angeles                         11440 non-null  int64  \n",
      " 80  San Francisco                       11440 non-null  int64  \n",
      " 81  Phoenix                             11440 non-null  int64  \n",
      " 82  San Jose                            11440 non-null  int64  \n",
      " 83  Irving                              11440 non-null  int64  \n",
      " 84  Columbus                            11440 non-null  int64  \n",
      " 85  Plano                               11440 non-null  int64  \n",
      " 86  Tempe                               11440 non-null  int64  \n",
      " 87  Washington                          11440 non-null  int64  \n",
      " 88  Santa Clara                         11440 non-null  int64  \n",
      " 89  Sunnyvale                           11440 non-null  int64  \n",
      " 90  South San Francisco                 11440 non-null  int64  \n",
      " 91  Arlington                           11440 non-null  int64  \n",
      " 92  Scottsdale                          11440 non-null  int64  \n",
      " 93  Jacksonville                        11440 non-null  int64  \n",
      " 94  Palo Alto                           11440 non-null  int64  \n",
      " 95  Charlotte                           11440 non-null  int64  \n",
      " 96  Redwood City                        11440 non-null  int64  \n",
      " 97  Staffigo Technical Services, LLC    11440 non-null  int64  \n",
      " 98  Apple                               11440 non-null  int64  \n",
      " 99  Amazon                              11440 non-null  int64  \n",
      " 100 Diverse Lynx                        11440 non-null  int64  \n",
      " 101 IBM                                 11440 non-null  int64  \n",
      " 102 Kforce                              11440 non-null  int64  \n",
      " 103 Genentech                           11440 non-null  int64  \n",
      " 104 Solekai Systems Corp                11440 non-null  int64  \n",
      " 105 Lorven Technologies Inc             11440 non-null  int64  \n",
      " 106 Facebook                            11440 non-null  int64  \n",
      " 107 Apex Systems                        11440 non-null  int64  \n",
      " 108 Mondo                               11440 non-null  int64  \n",
      " 109 USAA                                11440 non-null  int64  \n",
      " 110 MUFG                                11440 non-null  int64  \n",
      " 111 Robert Half                         11440 non-null  int64  \n",
      " 112 Randstad                            11440 non-null  int64  \n",
      " 113 eTeam Inc                           11440 non-null  int64  \n",
      " 114 Southwest Research Institute        11440 non-null  int64  \n",
      " 115 Leidos                              11440 non-null  int64  \n",
      " 116 Booz Allen Hamilton Inc             11440 non-null  int64  \n",
      " 117 UC San Diego                        11440 non-null  int64  \n",
      " 118 Kforce Technology Staffing          11440 non-null  int64  \n",
      " 119 Google                              11440 non-null  int64  \n",
      " 120 CyberCoders                         11440 non-null  int64  \n",
      " 121 Guidehouse                          11440 non-null  int64  \n",
      " 122 In_Headquarters                     11440 non-null  float64\n",
      " 123 Avg_Salary                          11440 non-null  float64\n",
      "dtypes: float64(24), int64(100)\n",
      "memory usage: 10.8 MB\n"
     ]
    }
   ],
   "source": [
    "df.info(verbose=True,null_counts=True)"
   ]
  },
  {
   "cell_type": "code",
   "execution_count": 5,
   "metadata": {},
   "outputs": [
    {
     "data": {
      "text/html": [
       "<div>\n",
       "<style scoped>\n",
       "    .dataframe tbody tr th:only-of-type {\n",
       "        vertical-align: middle;\n",
       "    }\n",
       "\n",
       "    .dataframe tbody tr th {\n",
       "        vertical-align: top;\n",
       "    }\n",
       "\n",
       "    .dataframe thead th {\n",
       "        text-align: right;\n",
       "    }\n",
       "</style>\n",
       "<table border=\"1\" class=\"dataframe\">\n",
       "  <thead>\n",
       "    <tr style=\"text-align: right;\">\n",
       "      <th></th>\n",
       "      <th>R</th>\n",
       "      <th>Python</th>\n",
       "      <th>Julia</th>\n",
       "      <th>SQL</th>\n",
       "      <th>Scala</th>\n",
       "      <th>JavaScript</th>\n",
       "      <th>Title_Machine</th>\n",
       "      <th>Title_Deep</th>\n",
       "      <th>Title_Analyst</th>\n",
       "      <th>Title_Engineer</th>\n",
       "      <th>...</th>\n",
       "      <th>Southwest Research Institute</th>\n",
       "      <th>Leidos</th>\n",
       "      <th>Booz Allen Hamilton Inc</th>\n",
       "      <th>UC San Diego</th>\n",
       "      <th>Kforce Technology Staffing</th>\n",
       "      <th>Google</th>\n",
       "      <th>CyberCoders</th>\n",
       "      <th>Guidehouse</th>\n",
       "      <th>In_Headquarters</th>\n",
       "      <th>Avg_Salary</th>\n",
       "    </tr>\n",
       "  </thead>\n",
       "  <tbody>\n",
       "    <tr>\n",
       "      <th>0</th>\n",
       "      <td>1.0</td>\n",
       "      <td>0.0</td>\n",
       "      <td>0.0</td>\n",
       "      <td>1.0</td>\n",
       "      <td>0.0</td>\n",
       "      <td>0.0</td>\n",
       "      <td>0.0</td>\n",
       "      <td>0.0</td>\n",
       "      <td>0.0</td>\n",
       "      <td>0.0</td>\n",
       "      <td>...</td>\n",
       "      <td>0</td>\n",
       "      <td>0</td>\n",
       "      <td>0</td>\n",
       "      <td>0</td>\n",
       "      <td>0</td>\n",
       "      <td>0</td>\n",
       "      <td>0</td>\n",
       "      <td>0</td>\n",
       "      <td>0.0</td>\n",
       "      <td>146000.0</td>\n",
       "    </tr>\n",
       "    <tr>\n",
       "      <th>1</th>\n",
       "      <td>0.0</td>\n",
       "      <td>1.0</td>\n",
       "      <td>0.0</td>\n",
       "      <td>1.0</td>\n",
       "      <td>0.0</td>\n",
       "      <td>0.0</td>\n",
       "      <td>0.0</td>\n",
       "      <td>0.0</td>\n",
       "      <td>0.0</td>\n",
       "      <td>0.0</td>\n",
       "      <td>...</td>\n",
       "      <td>0</td>\n",
       "      <td>0</td>\n",
       "      <td>0</td>\n",
       "      <td>0</td>\n",
       "      <td>0</td>\n",
       "      <td>0</td>\n",
       "      <td>0</td>\n",
       "      <td>0</td>\n",
       "      <td>1.0</td>\n",
       "      <td>146000.0</td>\n",
       "    </tr>\n",
       "    <tr>\n",
       "      <th>2</th>\n",
       "      <td>1.0</td>\n",
       "      <td>1.0</td>\n",
       "      <td>0.0</td>\n",
       "      <td>0.0</td>\n",
       "      <td>0.0</td>\n",
       "      <td>0.0</td>\n",
       "      <td>0.0</td>\n",
       "      <td>0.0</td>\n",
       "      <td>0.0</td>\n",
       "      <td>0.0</td>\n",
       "      <td>...</td>\n",
       "      <td>0</td>\n",
       "      <td>0</td>\n",
       "      <td>0</td>\n",
       "      <td>0</td>\n",
       "      <td>0</td>\n",
       "      <td>0</td>\n",
       "      <td>0</td>\n",
       "      <td>0</td>\n",
       "      <td>1.0</td>\n",
       "      <td>146000.0</td>\n",
       "    </tr>\n",
       "    <tr>\n",
       "      <th>3</th>\n",
       "      <td>0.0</td>\n",
       "      <td>1.0</td>\n",
       "      <td>0.0</td>\n",
       "      <td>1.0</td>\n",
       "      <td>0.0</td>\n",
       "      <td>0.0</td>\n",
       "      <td>0.0</td>\n",
       "      <td>0.0</td>\n",
       "      <td>1.0</td>\n",
       "      <td>0.0</td>\n",
       "      <td>...</td>\n",
       "      <td>0</td>\n",
       "      <td>0</td>\n",
       "      <td>0</td>\n",
       "      <td>0</td>\n",
       "      <td>0</td>\n",
       "      <td>0</td>\n",
       "      <td>0</td>\n",
       "      <td>0</td>\n",
       "      <td>1.0</td>\n",
       "      <td>146000.0</td>\n",
       "    </tr>\n",
       "    <tr>\n",
       "      <th>4</th>\n",
       "      <td>1.0</td>\n",
       "      <td>1.0</td>\n",
       "      <td>0.0</td>\n",
       "      <td>0.0</td>\n",
       "      <td>0.0</td>\n",
       "      <td>0.0</td>\n",
       "      <td>0.0</td>\n",
       "      <td>0.0</td>\n",
       "      <td>0.0</td>\n",
       "      <td>0.0</td>\n",
       "      <td>...</td>\n",
       "      <td>0</td>\n",
       "      <td>0</td>\n",
       "      <td>0</td>\n",
       "      <td>0</td>\n",
       "      <td>0</td>\n",
       "      <td>0</td>\n",
       "      <td>0</td>\n",
       "      <td>0</td>\n",
       "      <td>1.0</td>\n",
       "      <td>146000.0</td>\n",
       "    </tr>\n",
       "  </tbody>\n",
       "</table>\n",
       "<p>5 rows × 123 columns</p>\n",
       "</div>"
      ],
      "text/plain": [
       "     R  Python  Julia  SQL  Scala  JavaScript  Title_Machine  Title_Deep  \\\n",
       "0  1.0     0.0    0.0  1.0    0.0         0.0            0.0         0.0   \n",
       "1  0.0     1.0    0.0  1.0    0.0         0.0            0.0         0.0   \n",
       "2  1.0     1.0    0.0  0.0    0.0         0.0            0.0         0.0   \n",
       "3  0.0     1.0    0.0  1.0    0.0         0.0            0.0         0.0   \n",
       "4  1.0     1.0    0.0  0.0    0.0         0.0            0.0         0.0   \n",
       "\n",
       "   Title_Analyst  Title_Engineer  ...  Southwest Research Institute  Leidos  \\\n",
       "0            0.0             0.0  ...                             0       0   \n",
       "1            0.0             0.0  ...                             0       0   \n",
       "2            0.0             0.0  ...                             0       0   \n",
       "3            1.0             0.0  ...                             0       0   \n",
       "4            0.0             0.0  ...                             0       0   \n",
       "\n",
       "   Booz Allen Hamilton Inc  UC San Diego  Kforce Technology Staffing  Google  \\\n",
       "0                        0             0                           0       0   \n",
       "1                        0             0                           0       0   \n",
       "2                        0             0                           0       0   \n",
       "3                        0             0                           0       0   \n",
       "4                        0             0                           0       0   \n",
       "\n",
       "   CyberCoders  Guidehouse  In_Headquarters  Avg_Salary  \n",
       "0            0           0              0.0    146000.0  \n",
       "1            0           0              1.0    146000.0  \n",
       "2            0           0              1.0    146000.0  \n",
       "3            0           0              1.0    146000.0  \n",
       "4            0           0              1.0    146000.0  \n",
       "\n",
       "[5 rows x 123 columns]"
      ]
     },
     "execution_count": 5,
     "metadata": {},
     "output_type": "execute_result"
    }
   ],
   "source": [
    "df.drop('Unnamed: 0', axis=1, inplace=True)\n",
    "df.head()"
   ]
  },
  {
   "cell_type": "markdown",
   "metadata": {},
   "source": [
    "Split our train and test data:"
   ]
  },
  {
   "cell_type": "code",
   "execution_count": 6,
   "metadata": {},
   "outputs": [],
   "source": [
    "X_train, X_test, y_train, y_test = train_test_split(df.drop('Avg_Salary', axis=1), df.Avg_Salary, test_size=0.30, random_state=42)"
   ]
  },
  {
   "cell_type": "markdown",
   "metadata": {},
   "source": [
    "# RandomForest\n",
    "Here we will apply the RandomForestRegressor. We will start with a simple, raw regressor and see where we stand:"
   ]
  },
  {
   "cell_type": "code",
   "execution_count": 7,
   "metadata": {},
   "outputs": [
    {
     "data": {
      "text/plain": [
       "0.3400718066247146"
      ]
     },
     "execution_count": 7,
     "metadata": {},
     "output_type": "execute_result"
    }
   ],
   "source": [
    "rf = RandomForestRegressor(n_jobs=-1, random_state=42)\n",
    "rf.fit(X_train,y_train)\n",
    "rf.score(X_test,y_test)"
   ]
  },
  {
   "cell_type": "code",
   "execution_count": 8,
   "metadata": {},
   "outputs": [
    {
     "data": {
      "text/plain": [
       "21491.650883075352"
      ]
     },
     "execution_count": 8,
     "metadata": {},
     "output_type": "execute_result"
    }
   ],
   "source": [
    "mean_absolute_error(y_test, rf.predict(X_test))"
   ]
  },
  {
   "cell_type": "markdown",
   "metadata": {},
   "source": [
    "Our simple regressor is giving us an error of +- $21491. Let us see if we can improve the error with hyperparameter tunnig:"
   ]
  },
  {
   "cell_type": "markdown",
   "metadata": {},
   "source": [
    "# Run the best estimator from this RandomizedSearch below with n_estimators = 1000 and see if the model improves."
   ]
  },
  {
   "cell_type": "code",
   "execution_count": 9,
   "metadata": {},
   "outputs": [],
   "source": [
    "rf_params = {'bootstrap': [True, False],\n",
    "               'max_depth': [10, 50, None], #choose 10, 50, 100, none / this overfits\n",
    "               'max_features': ['auto', 'sqrt'],\n",
    "               'min_samples_leaf': [5,50,100, 500], #this overfits\n",
    "               'n_estimators': [100]}\n",
    "rf_grid = RandomForestRegressor(n_jobs=-1, random_state=42)\n",
    "rf_grid = GridSearchCV(rf_grid,rf_params, cv = 3, verbose=2, n_jobs = -1)"
   ]
  },
  {
   "cell_type": "code",
   "execution_count": 10,
   "metadata": {},
   "outputs": [
    {
     "name": "stdout",
     "output_type": "stream",
     "text": [
      "Fitting 3 folds for each of 48 candidates, totalling 144 fits\n"
     ]
    },
    {
     "name": "stderr",
     "output_type": "stream",
     "text": [
      "[Parallel(n_jobs=-1)]: Using backend LokyBackend with 16 concurrent workers.\n",
      "[Parallel(n_jobs=-1)]: Done   9 tasks      | elapsed:    3.8s\n",
      "[Parallel(n_jobs=-1)]: Done 144 out of 144 | elapsed:   16.9s finished\n"
     ]
    },
    {
     "data": {
      "text/plain": [
       "GridSearchCV(cv=3, estimator=RandomForestRegressor(n_jobs=-1, random_state=42),\n",
       "             n_jobs=-1,\n",
       "             param_grid={'bootstrap': [True, False],\n",
       "                         'max_depth': [10, 50, None],\n",
       "                         'max_features': ['auto', 'sqrt'],\n",
       "                         'min_samples_leaf': [5, 50, 100, 500],\n",
       "                         'n_estimators': [100]},\n",
       "             verbose=2)"
      ]
     },
     "execution_count": 10,
     "metadata": {},
     "output_type": "execute_result"
    }
   ],
   "source": [
    "rf_grid.fit(X_train,y_train)"
   ]
  },
  {
   "cell_type": "code",
   "execution_count": 11,
   "metadata": {},
   "outputs": [
    {
     "name": "stdout",
     "output_type": "stream",
     "text": [
      "{'bootstrap': True, 'max_depth': 10, 'max_features': 'auto', 'min_samples_leaf': 5, 'n_estimators': 100}\n",
      "0.40694808176414854\n",
      "RandomForestRegressor(max_depth=10, min_samples_leaf=5, n_jobs=-1,\n",
      "                      random_state=42)\n"
     ]
    }
   ],
   "source": [
    "print(rf_grid.best_params_)\n",
    "print(rf_grid.best_estimator_.score(X_test,y_test))\n",
    "print(rf_grid.best_estimator_)"
   ]
  },
  {
   "cell_type": "code",
   "execution_count": 12,
   "metadata": {},
   "outputs": [
    {
     "data": {
      "text/plain": [
       "20956.756584469742"
      ]
     },
     "execution_count": 12,
     "metadata": {},
     "output_type": "execute_result"
    }
   ],
   "source": [
    "mean_absolute_error(y_test, rf_grid.best_estimator_.predict(X_test))"
   ]
  },
  {
   "cell_type": "markdown",
   "metadata": {},
   "source": [
    "Our model improved a little bit. Let's see our feature importance:"
   ]
  },
  {
   "cell_type": "code",
   "execution_count": 13,
   "metadata": {},
   "outputs": [
    {
     "data": {
      "image/png": "[encoded data removed]",
      "text/plain": [
       "<Figure size 2160x720 with 1 Axes>"
      ]
     },
     "metadata": {},
     "output_type": "display_data"
    }
   ],
   "source": [
    "plt.figure(figsize=(30,10))\n",
    "pd.Series(rf_grid.best_estimator_.feature_importances_, index=X_train.columns).sort_values(ascending=False)[:200].plot(kind='bar')\n",
    "plt.show()"
   ]
  },
  {
   "cell_type": "markdown",
   "metadata": {},
   "source": [
    "Let's try another RandomForestRegressor using our best parameters but increasing n_estimators to see if we can improve our model a little more:"
   ]
  },
  {
   "cell_type": "code",
   "execution_count": 14,
   "metadata": {},
   "outputs": [
    {
     "data": {
      "text/plain": [
       "0.4074619289198107"
      ]
     },
     "execution_count": 14,
     "metadata": {},
     "output_type": "execute_result"
    }
   ],
   "source": [
    "rf_n = RandomForestRegressor(n_jobs=-1, random_state=42, bootstrap= True, max_depth= 10, max_features= 'auto', min_samples_leaf= 5, n_estimators= 1000)\n",
    "rf_n.fit(X_train,y_train)\n",
    "rf_n.score(X_test,y_test)"
   ]
  },
  {
   "cell_type": "code",
   "execution_count": 15,
   "metadata": {},
   "outputs": [
    {
     "data": {
      "text/plain": [
       "20941.39341044452"
      ]
     },
     "execution_count": 15,
     "metadata": {},
     "output_type": "execute_result"
    }
   ],
   "source": [
    "mean_absolute_error(y_test, rf_n.predict(X_test))"
   ]
  },
  {
   "cell_type": "markdown",
   "metadata": {},
   "source": [
    "Okay, $15 more accurate.\n",
    "\n",
    "Now let us see if dropping the variables with no importance makes a differece:"
   ]
  },
  {
   "cell_type": "code",
   "execution_count": 16,
   "metadata": {},
   "outputs": [
    {
     "data": {
      "text/plain": [
       "Index(['eTeam Inc', 'Title_Chief', 'CyberCoders', 'Agriculture & Forestry',\n",
       "       'TN', 'SC', 'Restaurants, Bars & Food Services', 'Title_Deep', 'KY',\n",
       "       'KS', 'GA', 'Travel & Tourism', 'Arts, Entertainment & Recreation',\n",
       "       'Lorven Technologies Inc', 'Randstad', 'Charlotte', 'Mining & Metals'],\n",
       "      dtype='object')"
      ]
     },
     "execution_count": 16,
     "metadata": {},
     "output_type": "execute_result"
    }
   ],
   "source": [
    "pd.Series(rf_grid.best_estimator_.feature_importances_, index=X_train.columns).sort_values(ascending=False)[pd.Series(rf_grid.best_estimator_.feature_importances_, index=X_train.columns)==0].index"
   ]
  },
  {
   "cell_type": "code",
   "execution_count": 17,
   "metadata": {},
   "outputs": [],
   "source": [
    "df_clean = df.copy()\n",
    "df_clean.drop(columns = ['eTeam Inc', 'Title_Chief', 'CyberCoders', 'Agriculture & Forestry',\n",
    "       'TN', 'SC', 'Restaurants, Bars & Food Services', 'Title_Deep', 'KY',\n",
    "       'KS', 'GA', 'Travel & Tourism', 'Arts, Entertainment & Recreation',\n",
    "       'Lorven Technologies Inc', 'Randstad', 'Charlotte', 'Mining & Metals'], inplace=True)"
   ]
  },
  {
   "cell_type": "code",
   "execution_count": 18,
   "metadata": {},
   "outputs": [],
   "source": [
    "X_train_clean, X_test_clean, y_train_clean, y_test_clean = train_test_split(df_clean.drop('Avg_Salary', axis=1), df_clean.Avg_Salary, test_size=0.30, random_state=42)"
   ]
  },
  {
   "cell_type": "code",
   "execution_count": 19,
   "metadata": {},
   "outputs": [
    {
     "data": {
      "text/plain": [
       "0.4074484391071409"
      ]
     },
     "execution_count": 19,
     "metadata": {},
     "output_type": "execute_result"
    }
   ],
   "source": [
    "rf_clean = RandomForestRegressor(n_jobs=-1, random_state=42, bootstrap= True, max_depth= 10, max_features= 'auto', min_samples_leaf= 5, n_estimators= 1000)\n",
    "rf_clean.fit(X_train_clean,y_train_clean)\n",
    "rf_clean.score(X_test_clean,y_test_clean)"
   ]
  },
  {
   "cell_type": "code",
   "execution_count": 20,
   "metadata": {},
   "outputs": [
    {
     "data": {
      "text/plain": [
       "20941.48056170549"
      ]
     },
     "execution_count": 20,
     "metadata": {},
     "output_type": "execute_result"
    }
   ],
   "source": [
    "mean_absolute_error(y_test_clean, rf_clean.predict(X_test_clean))"
   ]
  },
  {
   "cell_type": "code",
   "execution_count": 21,
   "metadata": {},
   "outputs": [
    {
     "data": {
      "image/png": "[encoded data removed]",
      "text/plain": [
       "<Figure size 432x288 with 1 Axes>"
      ]
     },
     "metadata": {},
     "output_type": "display_data"
    }
   ],
   "source": [
    "plt.scatter(y_test, rf_n.predict(X_test))\n",
    "plt.plot(y_test, y_test, c='b')\n",
    "plt.ylabel('Prediction')\n",
    "plt.xlabel('Actual')\n",
    "plt.title('RandomForestRegressor')\n",
    "\n",
    "plt.show()"
   ]
  },
  {
   "cell_type": "markdown",
   "metadata": {},
   "source": [
    "No difference whatsoever. \n",
    "\n",
    "So far the best model has a MAE of $20941.\n",
    "\n",
    "Let's try a different model:"
   ]
  },
  {
   "cell_type": "markdown",
   "metadata": {},
   "source": [
    "# Lasso"
   ]
  },
  {
   "cell_type": "code",
   "execution_count": 22,
   "metadata": {},
   "outputs": [
    {
     "data": {
      "text/plain": [
       "21744.25522691714"
      ]
     },
     "execution_count": 22,
     "metadata": {},
     "output_type": "execute_result"
    }
   ],
   "source": [
    "lasso = Lasso(alpha=0.5)\n",
    "lasso.fit(X_train,y_train)\n",
    "mean_absolute_error(y_test, lasso.predict(X_test))"
   ]
  },
  {
   "cell_type": "code",
   "execution_count": 23,
   "metadata": {},
   "outputs": [
    {
     "name": "stdout",
     "output_type": "stream",
     "text": [
      "Fitting 3 folds for each of 6 candidates, totalling 18 fits\n"
     ]
    },
    {
     "name": "stderr",
     "output_type": "stream",
     "text": [
      "[Parallel(n_jobs=-1)]: Using backend LokyBackend with 16 concurrent workers.\n",
      "[Parallel(n_jobs=-1)]: Done   7 out of  18 | elapsed:    4.7s remaining:    7.4s\n",
      "[Parallel(n_jobs=-1)]: Done  18 out of  18 | elapsed:    5.0s finished\n"
     ]
    },
    {
     "data": {
      "text/plain": [
       "GridSearchCV(cv=3, estimator=Lasso(), n_jobs=-1,\n",
       "             param_grid={'alpha': [0.01, 0.05, 0.1, 0.3, 0.5, 1]}, verbose=2)"
      ]
     },
     "execution_count": 23,
     "metadata": {},
     "output_type": "execute_result"
    }
   ],
   "source": [
    "lasso_params = {'alpha': [0.01, 0.05, 0.1, 0.3, 0.5, 1]}\n",
    "lasso_grid = Lasso()\n",
    "lasso_grid = GridSearchCV(lasso_grid,lasso_params, cv = 3, verbose=2, n_jobs = -1)\n",
    "lasso_grid.fit(X_train,y_train)"
   ]
  },
  {
   "cell_type": "code",
   "execution_count": 24,
   "metadata": {},
   "outputs": [
    {
     "name": "stdout",
     "output_type": "stream",
     "text": [
      "{'alpha': 1}\n",
      "0.3827107412261298\n",
      "Lasso(alpha=1)\n"
     ]
    }
   ],
   "source": [
    "print(lasso_grid.best_params_)\n",
    "print(lasso_grid.best_estimator_.score(X_test,y_test))\n",
    "print(lasso_grid.best_estimator_)"
   ]
  },
  {
   "cell_type": "code",
   "execution_count": 25,
   "metadata": {},
   "outputs": [
    {
     "data": {
      "text/plain": [
       "21739.84162234455"
      ]
     },
     "execution_count": 25,
     "metadata": {},
     "output_type": "execute_result"
    }
   ],
   "source": [
    "mean_absolute_error(y_test, lasso_grid.best_estimator_.predict(X_test))"
   ]
  },
  {
   "cell_type": "code",
   "execution_count": 26,
   "metadata": {},
   "outputs": [
    {
     "data": {
      "image/png": "[encoded data removed]",
      "text/plain": [
       "<Figure size 432x288 with 1 Axes>"
      ]
     },
     "metadata": {},
     "output_type": "display_data"
    }
   ],
   "source": [
    "plt.scatter(y_test, lasso_grid.best_estimator_.predict(X_test))\n",
    "plt.plot(y_test, y_test, c='b')\n",
    "plt.ylabel('Prediction')\n",
    "plt.xlabel('Actual')\n",
    "plt.title('Lasso Regression')\n",
    "\n",
    "plt.show()"
   ]
  },
  {
   "cell_type": "markdown",
   "metadata": {},
   "source": [
    "No improvement. Let's move on to XGBoost:"
   ]
  },
  {
   "cell_type": "markdown",
   "metadata": {},
   "source": [
    "# XGBoost"
   ]
  },
  {
   "cell_type": "code",
   "execution_count": 27,
   "metadata": {},
   "outputs": [
    {
     "data": {
      "text/plain": [
       "21238.198411777026"
      ]
     },
     "execution_count": 27,
     "metadata": {},
     "output_type": "execute_result"
    }
   ],
   "source": [
    "xgb_r = xg.XGBRegressor(objective ='reg:squarederror', \n",
    "                  n_estimators = 100, seed = 123)\n",
    "xgb_r.fit(X_train,y_train)\n",
    "\n",
    "mean_absolute_error(y_test, xgb_r.predict(X_test))"
   ]
  },
  {
   "cell_type": "markdown",
   "metadata": {},
   "source": [
    "Now let's do some tuning:"
   ]
  },
  {
   "cell_type": "code",
   "execution_count": 28,
   "metadata": {},
   "outputs": [
    {
     "name": "stdout",
     "output_type": "stream",
     "text": [
      "Fitting 2 folds for each of 24 candidates, totalling 48 fits\n"
     ]
    },
    {
     "name": "stderr",
     "output_type": "stream",
     "text": [
      "[Parallel(n_jobs=-1)]: Using backend LokyBackend with 16 concurrent workers.\n",
      "[Parallel(n_jobs=-1)]: Done   9 tasks      | elapsed:    3.5s\n",
      "[Parallel(n_jobs=-1)]: Done  42 out of  48 | elapsed:  2.2min remaining:   18.8s\n",
      "[Parallel(n_jobs=-1)]: Done  48 out of  48 | elapsed:  2.9min finished\n"
     ]
    },
    {
     "data": {
      "text/plain": [
       "GridSearchCV(cv=2,\n",
       "             estimator=XGBRegressor(objective='reg:squarederror', seed=123),\n",
       "             n_jobs=-1,\n",
       "             param_grid={'learning_rate': [0.01, 0.1, 0.5, 0.9],\n",
       "                         'max_depth': [10, 100, None],\n",
       "                         'n_estimators': [100, 1000]},\n",
       "             verbose=2)"
      ]
     },
     "execution_count": 28,
     "metadata": {},
     "output_type": "execute_result"
    }
   ],
   "source": [
    "params= {'n_estimators': [100, 1000],\n",
    "    'learning_rate': [0.01,0.1,0.5,0.9],\n",
    "    'max_depth': [10, 100, None]}\n",
    "\n",
    "xgb_grid = xg.XGBRegressor(objective ='reg:squarederror', seed = 123)\n",
    "xgb_grid = GridSearchCV(xgb_grid, params, cv=2, verbose=2, n_jobs = -1)\n",
    "xgb_grid.fit(X_train,y_train)"
   ]
  },
  {
   "cell_type": "code",
   "execution_count": 29,
   "metadata": {},
   "outputs": [
    {
     "name": "stdout",
     "output_type": "stream",
     "text": [
      "{'learning_rate': 0.01, 'max_depth': 10, 'n_estimators': 1000}\n",
      "0.3772982674665495\n",
      "XGBRegressor(learning_rate=0.01, max_depth=10, n_estimators=1000,\n",
      "             objective='reg:squarederror', seed=123)\n"
     ]
    }
   ],
   "source": [
    "print(xgb_grid.best_params_)\n",
    "print(xgb_grid.best_estimator_.score(X_test,y_test))\n",
    "print(xgb_grid.best_estimator_)"
   ]
  },
  {
   "cell_type": "code",
   "execution_count": 30,
   "metadata": {},
   "outputs": [
    {
     "data": {
      "text/plain": [
       "21048.844890461103"
      ]
     },
     "execution_count": 30,
     "metadata": {},
     "output_type": "execute_result"
    }
   ],
   "source": [
    "mean_absolute_error(y_test, xgb_grid.best_estimator_.predict(X_test))"
   ]
  },
  {
   "cell_type": "code",
   "execution_count": 31,
   "metadata": {},
   "outputs": [
    {
     "data": {
      "image/png": "[encoded data removed]",
      "text/plain": [
       "<Figure size 432x288 with 1 Axes>"
      ]
     },
     "metadata": {},
     "output_type": "display_data"
    }
   ],
   "source": [
    "plt.scatter(y_test, xgb_grid.best_estimator_.predict(X_test))\n",
    "plt.plot(y_test, y_test, c='b')\n",
    "plt.ylabel('Prediction')\n",
    "plt.xlabel('Actual')\n",
    "plt.title('XGBoost')\n",
    "\n",
    "plt.show()"
   ]
  },
  {
   "cell_type": "markdown",
   "metadata": {},
   "source": [
    "RandomForest is still in the lead.\n",
    "\n",
    "Now let's try LinearRegression:"
   ]
  },
  {
   "cell_type": "markdown",
   "metadata": {},
   "source": [
    "# LinearRegression"
   ]
  },
  {
   "cell_type": "code",
   "execution_count": 32,
   "metadata": {},
   "outputs": [
    {
     "data": {
      "text/plain": [
       "21749.525495337995"
      ]
     },
     "execution_count": 32,
     "metadata": {},
     "output_type": "execute_result"
    }
   ],
   "source": [
    "reg = LinearRegression().fit(X_train,y_train)\n",
    "mean_absolute_error(y_test, reg.predict(X_test))"
   ]
  },
  {
   "cell_type": "markdown",
   "metadata": {},
   "source": [
    "As expected, it is not good. Let's create a pipeline and use SelectKBest to apply GridSearchCV and see if our model improves:"
   ]
  },
  {
   "cell_type": "code",
   "execution_count": 33,
   "metadata": {},
   "outputs": [],
   "source": [
    "pipe = make_pipeline(\n",
    "    SelectKBest(f_classif),\n",
    "    LinearRegression()\n",
    ")"
   ]
  },
  {
   "cell_type": "code",
   "execution_count": 34,
   "metadata": {},
   "outputs": [
    {
     "name": "stderr",
     "output_type": "stream",
     "text": [
      "D:\\Desktop\\Springboard_Data_Science\\Enviroments\\pandas-profiling\\lib\\site-packages\\sklearn\\feature_selection\\_univariate_selection.py:116: RuntimeWarning: divide by zero encountered in true_divide\n",
      "  f = msb / msw\n"
     ]
    },
    {
     "data": {
      "text/plain": [
       "GridSearchCV(cv=3,\n",
       "             estimator=Pipeline(steps=[('selectkbest', SelectKBest()),\n",
       "                                       ('linearregression',\n",
       "                                        LinearRegression())]),\n",
       "             n_jobs=-1,\n",
       "             param_grid={'selectkbest__k': [1, 2, 3, 4, 5, 6, 7, 8, 9, 10, 11,\n",
       "                                            12, 13, 14, 15, 16, 17, 18, 19, 20,\n",
       "                                            21, 22, 23, 24, 25, 26, 27, 28, 29,\n",
       "                                            30, ...]})"
      ]
     },
     "execution_count": 34,
     "metadata": {},
     "output_type": "execute_result"
    }
   ],
   "source": [
    "k = [k+1 for k in range(len(X_train.columns))]\n",
    "grid_params = {'selectkbest__k': k}\n",
    "\n",
    "lr_random = GridSearchCV(pipe, param_grid=grid_params, cv=3, n_jobs=-1)\n",
    "\n",
    "lr_random.fit(X_train, y_train)"
   ]
  },
  {
   "cell_type": "code",
   "execution_count": 35,
   "metadata": {},
   "outputs": [
    {
     "data": {
      "text/plain": [
       "0.3856575147715846"
      ]
     },
     "execution_count": 35,
     "metadata": {},
     "output_type": "execute_result"
    }
   ],
   "source": [
    "lr_random.best_estimator_.score(X_test,y_test)"
   ]
  },
  {
   "cell_type": "code",
   "execution_count": 36,
   "metadata": {},
   "outputs": [
    {
     "data": {
      "text/plain": [
       "21696.776745849194"
      ]
     },
     "execution_count": 36,
     "metadata": {},
     "output_type": "execute_result"
    }
   ],
   "source": [
    "mean_absolute_error(y_test, lr_random.best_estimator_.predict(X_test))"
   ]
  },
  {
   "cell_type": "code",
   "execution_count": 37,
   "metadata": {},
   "outputs": [
    {
     "data": {
      "image/png": "[encoded data removed]",
      "text/plain": [
       "<Figure size 432x288 with 1 Axes>"
      ]
     },
     "metadata": {},
     "output_type": "display_data"
    }
   ],
   "source": [
    "plt.scatter(y_test, lr_random.best_estimator_.predict(X_test))\n",
    "plt.plot(y_test, y_test, c='b')\n",
    "plt.ylabel('Prediction')\n",
    "plt.xlabel('Actual')\n",
    "plt.title('Linear Regression')\n",
    "\n",
    "plt.show()"
   ]
  },
  {
   "cell_type": "markdown",
   "metadata": {},
   "source": [
    "It improved a little bit, but not enough to be better than RF.\n",
    "\n",
    "Let's explore OLS:"
   ]
  },
  {
   "cell_type": "markdown",
   "metadata": {},
   "source": [
    "# OLS"
   ]
  },
  {
   "cell_type": "code",
   "execution_count": 38,
   "metadata": {
    "scrolled": true
   },
   "outputs": [
    {
     "data": {
      "text/html": [
       "<table class=\"simpletable\">\n",
       "<caption>OLS Regression Results</caption>\n",
       "<tr>\n",
       "  <th>Dep. Variable:</th>       <td>Avg_Salary</td>    <th>  R-squared:         </th> <td>   0.397</td> \n",
       "</tr>\n",
       "<tr>\n",
       "  <th>Model:</th>                   <td>OLS</td>       <th>  Adj. R-squared:    </th> <td>   0.388</td> \n",
       "</tr>\n",
       "<tr>\n",
       "  <th>Method:</th>             <td>Least Squares</td>  <th>  F-statistic:       </th> <td>   43.29</td> \n",
       "</tr>\n",
       "<tr>\n",
       "  <th>Date:</th>             <td>Thu, 25 Feb 2021</td> <th>  Prob (F-statistic):</th>  <td>  0.00</td>  \n",
       "</tr>\n",
       "<tr>\n",
       "  <th>Time:</th>                 <td>12:22:51</td>     <th>  Log-Likelihood:    </th> <td> -93210.</td> \n",
       "</tr>\n",
       "<tr>\n",
       "  <th>No. Observations:</th>      <td>  8008</td>      <th>  AIC:               </th> <td>1.867e+05</td>\n",
       "</tr>\n",
       "<tr>\n",
       "  <th>Df Residuals:</th>          <td>  7887</td>      <th>  BIC:               </th> <td>1.875e+05</td>\n",
       "</tr>\n",
       "<tr>\n",
       "  <th>Df Model:</th>              <td>   120</td>      <th>                     </th>     <td> </td>    \n",
       "</tr>\n",
       "<tr>\n",
       "  <th>Covariance Type:</th>      <td>nonrobust</td>    <th>                     </th>     <td> </td>    \n",
       "</tr>\n",
       "</table>\n",
       "<table class=\"simpletable\">\n",
       "<tr>\n",
       "                   <td></td>                     <th>coef</th>     <th>std err</th>      <th>t</th>      <th>P>|t|</th>  <th>[0.025</th>    <th>0.975]</th>  \n",
       "</tr>\n",
       "<tr>\n",
       "  <th>const</th>                              <td>  7.66e+04</td> <td> 3417.602</td> <td>   22.414</td> <td> 0.000</td> <td> 6.99e+04</td> <td> 8.33e+04</td>\n",
       "</tr>\n",
       "<tr>\n",
       "  <th>R</th>                                  <td>  277.9529</td> <td>  941.206</td> <td>    0.295</td> <td> 0.768</td> <td>-1567.061</td> <td> 2122.967</td>\n",
       "</tr>\n",
       "<tr>\n",
       "  <th>Python</th>                             <td> 2958.6309</td> <td>  859.148</td> <td>    3.444</td> <td> 0.001</td> <td> 1274.473</td> <td> 4642.789</td>\n",
       "</tr>\n",
       "<tr>\n",
       "  <th>Julia</th>                              <td> 4451.2037</td> <td> 5622.626</td> <td>    0.792</td> <td> 0.429</td> <td>-6570.632</td> <td> 1.55e+04</td>\n",
       "</tr>\n",
       "<tr>\n",
       "  <th>SQL</th>                                <td> 1570.0485</td> <td>  714.628</td> <td>    2.197</td> <td> 0.028</td> <td>  169.188</td> <td> 2970.909</td>\n",
       "</tr>\n",
       "<tr>\n",
       "  <th>Scala</th>                              <td>  -96.8009</td> <td>  943.290</td> <td>   -0.103</td> <td> 0.918</td> <td>-1945.900</td> <td> 1752.298</td>\n",
       "</tr>\n",
       "<tr>\n",
       "  <th>JavaScript</th>                         <td>-1350.9833</td> <td> 1704.778</td> <td>   -0.792</td> <td> 0.428</td> <td>-4692.800</td> <td> 1990.834</td>\n",
       "</tr>\n",
       "<tr>\n",
       "  <th>Title_Machine</th>                      <td> 8478.0060</td> <td> 2161.298</td> <td>    3.923</td> <td> 0.000</td> <td> 4241.289</td> <td> 1.27e+04</td>\n",
       "</tr>\n",
       "<tr>\n",
       "  <th>Title_Deep</th>                         <td>-8107.3792</td> <td> 8825.840</td> <td>   -0.919</td> <td> 0.358</td> <td>-2.54e+04</td> <td> 9193.605</td>\n",
       "</tr>\n",
       "<tr>\n",
       "  <th>Title_Analyst</th>                      <td>-2.148e+04</td> <td> 1290.201</td> <td>  -16.650</td> <td> 0.000</td> <td> -2.4e+04</td> <td> -1.9e+04</td>\n",
       "</tr>\n",
       "<tr>\n",
       "  <th>Title_Engineer</th>                     <td> 1855.6817</td> <td> 1379.500</td> <td>    1.345</td> <td> 0.179</td> <td> -848.503</td> <td> 4559.867</td>\n",
       "</tr>\n",
       "<tr>\n",
       "  <th>Title_Scientist</th>                    <td> 9522.3870</td> <td> 1334.761</td> <td>    7.134</td> <td> 0.000</td> <td> 6905.902</td> <td> 1.21e+04</td>\n",
       "</tr>\n",
       "<tr>\n",
       "  <th>Title_Manager</th>                      <td> -679.3220</td> <td> 2372.909</td> <td>   -0.286</td> <td> 0.775</td> <td>-5330.852</td> <td> 3972.208</td>\n",
       "</tr>\n",
       "<tr>\n",
       "  <th>Title_Senior</th>                       <td> 3199.4264</td> <td>  864.851</td> <td>    3.699</td> <td> 0.000</td> <td> 1504.089</td> <td> 4894.764</td>\n",
       "</tr>\n",
       "<tr>\n",
       "  <th>Title_Junior</th>                       <td>-3516.0720</td> <td> 2534.145</td> <td>   -1.387</td> <td> 0.165</td> <td>-8483.668</td> <td> 1451.524</td>\n",
       "</tr>\n",
       "<tr>\n",
       "  <th>Title_Lead</th>                         <td> 3455.0226</td> <td> 2031.753</td> <td>    1.701</td> <td> 0.089</td> <td> -527.752</td> <td> 7437.797</td>\n",
       "</tr>\n",
       "<tr>\n",
       "  <th>Title_Principal</th>                    <td> 6807.9666</td> <td> 2577.306</td> <td>    2.642</td> <td> 0.008</td> <td> 1755.765</td> <td> 1.19e+04</td>\n",
       "</tr>\n",
       "<tr>\n",
       "  <th>Title_Chief</th>                        <td> 4959.3704</td> <td> 9893.485</td> <td>    0.501</td> <td> 0.616</td> <td>-1.44e+04</td> <td> 2.44e+04</td>\n",
       "</tr>\n",
       "<tr>\n",
       "  <th>Title_Intern</th>                       <td> 4673.0768</td> <td> 4326.897</td> <td>    1.080</td> <td> 0.280</td> <td>-3808.787</td> <td> 1.32e+04</td>\n",
       "</tr>\n",
       "<tr>\n",
       "  <th>Employer_Estimate</th>                  <td> 2.575e+04</td> <td> 3611.271</td> <td>    7.129</td> <td> 0.000</td> <td> 1.87e+04</td> <td> 3.28e+04</td>\n",
       "</tr>\n",
       "<tr>\n",
       "  <th>Size_ord</th>                           <td> -874.0008</td> <td>  393.912</td> <td>   -2.219</td> <td> 0.027</td> <td>-1646.173</td> <td> -101.829</td>\n",
       "</tr>\n",
       "<tr>\n",
       "  <th>Revenue_ord</th>                        <td>  483.7907</td> <td>  216.789</td> <td>    2.232</td> <td> 0.026</td> <td>   58.827</td> <td>  908.755</td>\n",
       "</tr>\n",
       "<tr>\n",
       "  <th>Rating</th>                             <td> 1471.3491</td> <td>  565.715</td> <td>    2.601</td> <td> 0.009</td> <td>  362.398</td> <td> 2580.301</td>\n",
       "</tr>\n",
       "<tr>\n",
       "  <th>AZ</th>                                 <td> 9632.4067</td> <td> 4314.930</td> <td>    2.232</td> <td> 0.026</td> <td> 1174.002</td> <td> 1.81e+04</td>\n",
       "</tr>\n",
       "<tr>\n",
       "  <th>CA</th>                                 <td> 2.996e+04</td> <td> 2579.558</td> <td>   11.615</td> <td> 0.000</td> <td> 2.49e+04</td> <td>  3.5e+04</td>\n",
       "</tr>\n",
       "<tr>\n",
       "  <th>CO</th>                                 <td> 8129.2108</td> <td> 3995.982</td> <td>    2.034</td> <td> 0.042</td> <td>  296.028</td> <td>  1.6e+04</td>\n",
       "</tr>\n",
       "<tr>\n",
       "  <th>DC</th>                                 <td> 1958.8614</td> <td> 1831.601</td> <td>    1.069</td> <td> 0.285</td> <td>-1631.562</td> <td> 5549.285</td>\n",
       "</tr>\n",
       "<tr>\n",
       "  <th>DE</th>                                 <td> 1.542e+04</td> <td> 4844.827</td> <td>    3.183</td> <td> 0.001</td> <td> 5921.776</td> <td> 2.49e+04</td>\n",
       "</tr>\n",
       "<tr>\n",
       "  <th>FL</th>                                 <td>-1.928e+04</td> <td> 9732.589</td> <td>   -1.981</td> <td> 0.048</td> <td>-3.84e+04</td> <td> -204.426</td>\n",
       "</tr>\n",
       "<tr>\n",
       "  <th>GA</th>                                 <td>-1.931e+04</td> <td> 1.56e+04</td> <td>   -1.241</td> <td> 0.215</td> <td>-4.98e+04</td> <td> 1.12e+04</td>\n",
       "</tr>\n",
       "<tr>\n",
       "  <th>IL</th>                                 <td> 9205.3467</td> <td> 3747.679</td> <td>    2.456</td> <td> 0.014</td> <td> 1858.904</td> <td> 1.66e+04</td>\n",
       "</tr>\n",
       "<tr>\n",
       "  <th>IN</th>                                 <td>-1.682e+04</td> <td> 7257.191</td> <td>   -2.318</td> <td> 0.020</td> <td> -3.1e+04</td> <td>-2595.531</td>\n",
       "</tr>\n",
       "<tr>\n",
       "  <th>KS</th>                                 <td>-1.048e+04</td> <td> 1.89e+04</td> <td>   -0.555</td> <td> 0.579</td> <td>-4.75e+04</td> <td> 2.65e+04</td>\n",
       "</tr>\n",
       "<tr>\n",
       "  <th>KY</th>                                 <td> 2.351e+04</td> <td> 2.67e+04</td> <td>    0.881</td> <td> 0.378</td> <td>-2.88e+04</td> <td> 7.58e+04</td>\n",
       "</tr>\n",
       "<tr>\n",
       "  <th>MD</th>                                 <td> 5601.3690</td> <td> 3458.792</td> <td>    1.619</td> <td> 0.105</td> <td>-1178.779</td> <td> 1.24e+04</td>\n",
       "</tr>\n",
       "<tr>\n",
       "  <th>NC</th>                                 <td> 1022.6373</td> <td> 9772.746</td> <td>    0.105</td> <td> 0.917</td> <td>-1.81e+04</td> <td> 2.02e+04</td>\n",
       "</tr>\n",
       "<tr>\n",
       "  <th>NJ</th>                                 <td> 1.659e+04</td> <td> 3284.983</td> <td>    5.051</td> <td> 0.000</td> <td> 1.02e+04</td> <td>  2.3e+04</td>\n",
       "</tr>\n",
       "<tr>\n",
       "  <th>NY</th>                                 <td> 2.043e+04</td> <td> 4922.143</td> <td>    4.150</td> <td> 0.000</td> <td> 1.08e+04</td> <td> 3.01e+04</td>\n",
       "</tr>\n",
       "<tr>\n",
       "  <th>OH</th>                                 <td> 2622.5097</td> <td> 6029.258</td> <td>    0.435</td> <td> 0.664</td> <td>-9196.433</td> <td> 1.44e+04</td>\n",
       "</tr>\n",
       "<tr>\n",
       "  <th>PA</th>                                 <td> 1.094e+04</td> <td> 3096.228</td> <td>    3.532</td> <td> 0.000</td> <td> 4865.640</td> <td>  1.7e+04</td>\n",
       "</tr>\n",
       "<tr>\n",
       "  <th>SC</th>                                 <td> 8952.0847</td> <td> 1.89e+04</td> <td>    0.474</td> <td> 0.636</td> <td>-2.81e+04</td> <td>  4.6e+04</td>\n",
       "</tr>\n",
       "<tr>\n",
       "  <th>TN</th>                                 <td> -375.4708</td> <td> 2.66e+04</td> <td>   -0.014</td> <td> 0.989</td> <td>-5.25e+04</td> <td> 5.18e+04</td>\n",
       "</tr>\n",
       "<tr>\n",
       "  <th>TX</th>                                 <td>-2291.7551</td> <td> 2876.649</td> <td>   -0.797</td> <td> 0.426</td> <td>-7930.748</td> <td> 3347.238</td>\n",
       "</tr>\n",
       "<tr>\n",
       "  <th>UT</th>                                 <td>-2.812e+04</td> <td> 5914.054</td> <td>   -4.755</td> <td> 0.000</td> <td>-3.97e+04</td> <td>-1.65e+04</td>\n",
       "</tr>\n",
       "<tr>\n",
       "  <th>VA</th>                                 <td> 8965.6471</td> <td> 3006.455</td> <td>    2.982</td> <td> 0.003</td> <td> 3072.199</td> <td> 1.49e+04</td>\n",
       "</tr>\n",
       "<tr>\n",
       "  <th>WA</th>                                 <td>  343.2573</td> <td> 5084.242</td> <td>    0.068</td> <td> 0.946</td> <td>-9623.202</td> <td> 1.03e+04</td>\n",
       "</tr>\n",
       "<tr>\n",
       "  <th>Accounting & Legal</th>                 <td> 3366.0646</td> <td> 2865.846</td> <td>    1.175</td> <td> 0.240</td> <td>-2251.752</td> <td> 8983.881</td>\n",
       "</tr>\n",
       "<tr>\n",
       "  <th>Aerospace & Defense</th>                <td>  715.3522</td> <td> 3190.542</td> <td>    0.224</td> <td> 0.823</td> <td>-5538.955</td> <td> 6969.659</td>\n",
       "</tr>\n",
       "<tr>\n",
       "  <th>Agriculture & Forestry</th>             <td>-2.039e+04</td> <td> 1.14e+04</td> <td>   -1.794</td> <td> 0.073</td> <td>-4.27e+04</td> <td> 1894.028</td>\n",
       "</tr>\n",
       "<tr>\n",
       "  <th>Arts, Entertainment & Recreation</th>   <td> 3524.5470</td> <td> 6808.507</td> <td>    0.518</td> <td> 0.605</td> <td>-9821.929</td> <td> 1.69e+04</td>\n",
       "</tr>\n",
       "<tr>\n",
       "  <th>Biotech & Pharmaceuticals</th>          <td> 2792.2785</td> <td> 2048.137</td> <td>    1.363</td> <td> 0.173</td> <td>-1222.612</td> <td> 6807.169</td>\n",
       "</tr>\n",
       "<tr>\n",
       "  <th>Business Services</th>                  <td> 2259.1861</td> <td> 1114.375</td> <td>    2.027</td> <td> 0.043</td> <td>   74.717</td> <td> 4443.656</td>\n",
       "</tr>\n",
       "<tr>\n",
       "  <th>Construction, Repair & Maintenance</th> <td> 6905.1839</td> <td> 4579.963</td> <td>    1.508</td> <td> 0.132</td> <td>-2072.756</td> <td> 1.59e+04</td>\n",
       "</tr>\n",
       "<tr>\n",
       "  <th>Consumer Services</th>                  <td>-3637.9913</td> <td> 4489.796</td> <td>   -0.810</td> <td> 0.418</td> <td>-1.24e+04</td> <td> 5163.198</td>\n",
       "</tr>\n",
       "<tr>\n",
       "  <th>Education</th>                          <td>-3511.7607</td> <td> 2639.096</td> <td>   -1.331</td> <td> 0.183</td> <td>-8685.087</td> <td> 1661.566</td>\n",
       "</tr>\n",
       "<tr>\n",
       "  <th>Finance</th>                            <td>  770.2320</td> <td> 1591.145</td> <td>    0.484</td> <td> 0.628</td> <td>-2348.833</td> <td> 3889.297</td>\n",
       "</tr>\n",
       "<tr>\n",
       "  <th>Government</th>                         <td> 2332.0856</td> <td> 2605.174</td> <td>    0.895</td> <td> 0.371</td> <td>-2774.745</td> <td> 7438.916</td>\n",
       "</tr>\n",
       "<tr>\n",
       "  <th>Health Care</th>                        <td> 2113.0652</td> <td> 1843.019</td> <td>    1.147</td> <td> 0.252</td> <td>-1499.741</td> <td> 5725.871</td>\n",
       "</tr>\n",
       "<tr>\n",
       "  <th>Information Technology</th>             <td> 2023.9789</td> <td> 1056.038</td> <td>    1.917</td> <td> 0.055</td> <td>  -46.135</td> <td> 4094.093</td>\n",
       "</tr>\n",
       "<tr>\n",
       "  <th>Insurance</th>                          <td>  440.5283</td> <td> 2185.736</td> <td>    0.202</td> <td> 0.840</td> <td>-3844.094</td> <td> 4725.150</td>\n",
       "</tr>\n",
       "<tr>\n",
       "  <th>Manufacturing</th>                      <td> 1907.8656</td> <td> 2256.796</td> <td>    0.845</td> <td> 0.398</td> <td>-2516.053</td> <td> 6331.784</td>\n",
       "</tr>\n",
       "<tr>\n",
       "  <th>Media</th>                              <td>  784.2333</td> <td> 2879.021</td> <td>    0.272</td> <td> 0.785</td> <td>-4859.411</td> <td> 6427.877</td>\n",
       "</tr>\n",
       "<tr>\n",
       "  <th>Mining & Metals</th>                    <td>-4012.9957</td> <td> 1.61e+04</td> <td>   -0.249</td> <td> 0.803</td> <td>-3.56e+04</td> <td> 2.76e+04</td>\n",
       "</tr>\n",
       "<tr>\n",
       "  <th>Non-Profit</th>                         <td>-6511.6879</td> <td> 3950.298</td> <td>   -1.648</td> <td> 0.099</td> <td>-1.43e+04</td> <td> 1231.942</td>\n",
       "</tr>\n",
       "<tr>\n",
       "  <th>Oil, Gas, Energy & Utilities</th>       <td> 2124.1284</td> <td> 3422.472</td> <td>    0.621</td> <td> 0.535</td> <td>-4584.824</td> <td> 8833.080</td>\n",
       "</tr>\n",
       "<tr>\n",
       "  <th>Real Estate</th>                        <td> 1.428e+04</td> <td> 5233.890</td> <td>    2.729</td> <td> 0.006</td> <td> 4022.792</td> <td> 2.45e+04</td>\n",
       "</tr>\n",
       "<tr>\n",
       "  <th>Restaurants, Bars & Food Services</th>  <td> 1108.7552</td> <td> 6865.586</td> <td>    0.161</td> <td> 0.872</td> <td>-1.23e+04</td> <td> 1.46e+04</td>\n",
       "</tr>\n",
       "<tr>\n",
       "  <th>Retail</th>                             <td> 7723.4124</td> <td> 2776.480</td> <td>    2.782</td> <td> 0.005</td> <td> 2280.777</td> <td> 1.32e+04</td>\n",
       "</tr>\n",
       "<tr>\n",
       "  <th>Telecommunications</th>                 <td> 4374.1522</td> <td> 4642.730</td> <td>    0.942</td> <td> 0.346</td> <td>-4726.828</td> <td> 1.35e+04</td>\n",
       "</tr>\n",
       "<tr>\n",
       "  <th>Transportation & Logistics</th>         <td>-2670.5618</td> <td> 4239.448</td> <td>   -0.630</td> <td> 0.529</td> <td> -1.1e+04</td> <td> 5639.880</td>\n",
       "</tr>\n",
       "<tr>\n",
       "  <th>Travel & Tourism</th>                   <td>-1.848e+04</td> <td> 1.39e+04</td> <td>   -1.326</td> <td> 0.185</td> <td>-4.58e+04</td> <td> 8848.078</td>\n",
       "</tr>\n",
       "<tr>\n",
       "  <th>Austin</th>                             <td> 9968.7380</td> <td> 2096.767</td> <td>    4.754</td> <td> 0.000</td> <td> 5858.518</td> <td> 1.41e+04</td>\n",
       "</tr>\n",
       "<tr>\n",
       "  <th>New York</th>                           <td> 3043.8493</td> <td> 4660.084</td> <td>    0.653</td> <td> 0.514</td> <td>-6091.150</td> <td> 1.22e+04</td>\n",
       "</tr>\n",
       "<tr>\n",
       "  <th>Chicago</th>                            <td>-2847.1501</td> <td> 3307.824</td> <td>   -0.861</td> <td> 0.389</td> <td>-9331.361</td> <td> 3637.061</td>\n",
       "</tr>\n",
       "<tr>\n",
       "  <th>San Diego</th>                          <td>-1.442e+04</td> <td> 1737.906</td> <td>   -8.296</td> <td> 0.000</td> <td>-1.78e+04</td> <td> -1.1e+04</td>\n",
       "</tr>\n",
       "<tr>\n",
       "  <th>Houston</th>                            <td> 6571.1502</td> <td> 2159.014</td> <td>    3.044</td> <td> 0.002</td> <td> 2338.911</td> <td> 1.08e+04</td>\n",
       "</tr>\n",
       "<tr>\n",
       "  <th>San Antonio</th>                        <td> 2348.3022</td> <td> 2285.912</td> <td>    1.027</td> <td> 0.304</td> <td>-2132.690</td> <td> 6829.294</td>\n",
       "</tr>\n",
       "<tr>\n",
       "  <th>Dallas</th>                             <td> 3373.6127</td> <td> 2301.668</td> <td>    1.466</td> <td> 0.143</td> <td>-1138.267</td> <td> 7885.492</td>\n",
       "</tr>\n",
       "<tr>\n",
       "  <th>Philadelphia</th>                       <td>-2725.6032</td> <td> 2620.786</td> <td>   -1.040</td> <td> 0.298</td> <td>-7863.037</td> <td> 2411.831</td>\n",
       "</tr>\n",
       "<tr>\n",
       "  <th>Los Angeles</th>                        <td> 1621.4633</td> <td> 1944.115</td> <td>    0.834</td> <td> 0.404</td> <td>-2189.516</td> <td> 5432.443</td>\n",
       "</tr>\n",
       "<tr>\n",
       "  <th>San Francisco</th>                      <td> 7063.7089</td> <td> 2017.917</td> <td>    3.500</td> <td> 0.000</td> <td> 3108.056</td> <td>  1.1e+04</td>\n",
       "</tr>\n",
       "<tr>\n",
       "  <th>Phoenix</th>                            <td>-4683.2831</td> <td> 4132.583</td> <td>   -1.133</td> <td> 0.257</td> <td>-1.28e+04</td> <td> 3417.673</td>\n",
       "</tr>\n",
       "<tr>\n",
       "  <th>San Jose</th>                           <td>  2.44e+04</td> <td> 2467.910</td> <td>    9.889</td> <td> 0.000</td> <td> 1.96e+04</td> <td> 2.92e+04</td>\n",
       "</tr>\n",
       "<tr>\n",
       "  <th>Irving</th>                             <td> 6712.8973</td> <td> 2760.689</td> <td>    2.432</td> <td> 0.015</td> <td> 1301.217</td> <td> 1.21e+04</td>\n",
       "</tr>\n",
       "<tr>\n",
       "  <th>Columbus</th>                           <td>-5127.4617</td> <td> 6322.120</td> <td>   -0.811</td> <td> 0.417</td> <td>-1.75e+04</td> <td> 7265.568</td>\n",
       "</tr>\n",
       "<tr>\n",
       "  <th>Plano</th>                              <td> 7236.3440</td> <td> 3115.109</td> <td>    2.323</td> <td> 0.020</td> <td> 1129.906</td> <td> 1.33e+04</td>\n",
       "</tr>\n",
       "<tr>\n",
       "  <th>Tempe</th>                              <td>-6494.1900</td> <td> 4801.713</td> <td>   -1.352</td> <td> 0.176</td> <td>-1.59e+04</td> <td> 2918.439</td>\n",
       "</tr>\n",
       "<tr>\n",
       "  <th>Washington</th>                         <td> 1958.8614</td> <td> 1831.601</td> <td>    1.069</td> <td> 0.285</td> <td>-1631.562</td> <td> 5549.285</td>\n",
       "</tr>\n",
       "<tr>\n",
       "  <th>Santa Clara</th>                        <td> 1.986e+04</td> <td> 3471.606</td> <td>    5.721</td> <td> 0.000</td> <td> 1.31e+04</td> <td> 2.67e+04</td>\n",
       "</tr>\n",
       "<tr>\n",
       "  <th>Sunnyvale</th>                          <td> 2.045e+04</td> <td> 3281.184</td> <td>    6.231</td> <td> 0.000</td> <td>  1.4e+04</td> <td> 2.69e+04</td>\n",
       "</tr>\n",
       "<tr>\n",
       "  <th>South San Francisco</th>                <td> 2598.9821</td> <td> 4454.282</td> <td>    0.583</td> <td> 0.560</td> <td>-6132.590</td> <td> 1.13e+04</td>\n",
       "</tr>\n",
       "<tr>\n",
       "  <th>Arlington</th>                          <td> -825.2756</td> <td> 3476.367</td> <td>   -0.237</td> <td> 0.812</td> <td>-7639.875</td> <td> 5989.324</td>\n",
       "</tr>\n",
       "<tr>\n",
       "  <th>Scottsdale</th>                         <td>-3165.6326</td> <td> 5291.134</td> <td>   -0.598</td> <td> 0.550</td> <td>-1.35e+04</td> <td> 7206.390</td>\n",
       "</tr>\n",
       "<tr>\n",
       "  <th>Jacksonville</th>                       <td> 1.166e+04</td> <td> 1.05e+04</td> <td>    1.110</td> <td> 0.267</td> <td>-8943.658</td> <td> 3.23e+04</td>\n",
       "</tr>\n",
       "<tr>\n",
       "  <th>Palo Alto</th>                          <td> 1.684e+04</td> <td> 3762.821</td> <td>    4.475</td> <td> 0.000</td> <td> 9462.838</td> <td> 2.42e+04</td>\n",
       "</tr>\n",
       "<tr>\n",
       "  <th>Charlotte</th>                          <td> 2005.2600</td> <td> 1.07e+04</td> <td>    0.188</td> <td> 0.851</td> <td>-1.89e+04</td> <td> 2.29e+04</td>\n",
       "</tr>\n",
       "<tr>\n",
       "  <th>Redwood City</th>                       <td> 1.892e+04</td> <td> 4063.263</td> <td>    4.656</td> <td> 0.000</td> <td>  1.1e+04</td> <td> 2.69e+04</td>\n",
       "</tr>\n",
       "<tr>\n",
       "  <th>Staffigo Technical Services, LLC</th>   <td> 1242.4077</td> <td> 2602.984</td> <td>    0.477</td> <td> 0.633</td> <td>-3860.131</td> <td> 6344.946</td>\n",
       "</tr>\n",
       "<tr>\n",
       "  <th>Apple</th>                              <td> 9145.5318</td> <td> 4106.338</td> <td>    2.227</td> <td> 0.026</td> <td> 1096.022</td> <td> 1.72e+04</td>\n",
       "</tr>\n",
       "<tr>\n",
       "  <th>Amazon</th>                             <td> 2667.2675</td> <td> 4025.784</td> <td>    0.663</td> <td> 0.508</td> <td>-5224.336</td> <td> 1.06e+04</td>\n",
       "</tr>\n",
       "<tr>\n",
       "  <th>Diverse Lynx</th>                       <td> 5558.2718</td> <td> 3806.632</td> <td>    1.460</td> <td> 0.144</td> <td>-1903.735</td> <td>  1.3e+04</td>\n",
       "</tr>\n",
       "<tr>\n",
       "  <th>IBM</th>                                <td>  -87.5249</td> <td> 4702.103</td> <td>   -0.019</td> <td> 0.985</td> <td>-9304.892</td> <td> 9129.842</td>\n",
       "</tr>\n",
       "<tr>\n",
       "  <th>Kforce</th>                             <td> 1082.9349</td> <td> 4046.792</td> <td>    0.268</td> <td> 0.789</td> <td>-6849.849</td> <td> 9015.719</td>\n",
       "</tr>\n",
       "<tr>\n",
       "  <th>Genentech</th>                          <td> 1.862e+04</td> <td> 5942.773</td> <td>    3.134</td> <td> 0.002</td> <td> 6973.206</td> <td> 3.03e+04</td>\n",
       "</tr>\n",
       "<tr>\n",
       "  <th>Solekai Systems Corp</th>               <td> 1.147e+04</td> <td> 4553.543</td> <td>    2.518</td> <td> 0.012</td> <td> 2539.716</td> <td> 2.04e+04</td>\n",
       "</tr>\n",
       "<tr>\n",
       "  <th>Lorven Technologies Inc</th>            <td> 2027.0087</td> <td> 5427.246</td> <td>    0.373</td> <td> 0.709</td> <td>-8611.831</td> <td> 1.27e+04</td>\n",
       "</tr>\n",
       "<tr>\n",
       "  <th>Facebook</th>                           <td> 1.594e+04</td> <td> 4702.839</td> <td>    3.390</td> <td> 0.001</td> <td> 6724.507</td> <td> 2.52e+04</td>\n",
       "</tr>\n",
       "<tr>\n",
       "  <th>Apex Systems</th>                       <td> 2367.8843</td> <td> 5660.632</td> <td>    0.418</td> <td> 0.676</td> <td>-8728.454</td> <td> 1.35e+04</td>\n",
       "</tr>\n",
       "<tr>\n",
       "  <th>Mondo</th>                              <td>-7573.3709</td> <td> 5373.249</td> <td>   -1.409</td> <td> 0.159</td> <td>-1.81e+04</td> <td> 2959.620</td>\n",
       "</tr>\n",
       "<tr>\n",
       "  <th>USAA</th>                               <td>  2.01e+04</td> <td> 5844.902</td> <td>    3.439</td> <td> 0.001</td> <td> 8641.172</td> <td> 3.16e+04</td>\n",
       "</tr>\n",
       "<tr>\n",
       "  <th>MUFG</th>                               <td> 8694.1538</td> <td> 6569.716</td> <td>    1.323</td> <td> 0.186</td> <td>-4184.228</td> <td> 2.16e+04</td>\n",
       "</tr>\n",
       "<tr>\n",
       "  <th>Robert Half</th>                        <td> 2607.5204</td> <td> 5880.096</td> <td>    0.443</td> <td> 0.657</td> <td>-8919.025</td> <td> 1.41e+04</td>\n",
       "</tr>\n",
       "<tr>\n",
       "  <th>Randstad</th>                           <td> 7508.4212</td> <td> 5754.520</td> <td>    1.305</td> <td> 0.192</td> <td>-3771.961</td> <td> 1.88e+04</td>\n",
       "</tr>\n",
       "<tr>\n",
       "  <th>eTeam Inc</th>                          <td>  897.5818</td> <td> 5776.551</td> <td>    0.155</td> <td> 0.877</td> <td>-1.04e+04</td> <td> 1.22e+04</td>\n",
       "</tr>\n",
       "<tr>\n",
       "  <th>Southwest Research Institute</th>       <td>-2708.3819</td> <td> 5537.424</td> <td>   -0.489</td> <td> 0.625</td> <td>-1.36e+04</td> <td> 8146.435</td>\n",
       "</tr>\n",
       "<tr>\n",
       "  <th>Leidos</th>                             <td> 1.014e+04</td> <td> 6151.586</td> <td>    1.648</td> <td> 0.099</td> <td>-1923.162</td> <td> 2.22e+04</td>\n",
       "</tr>\n",
       "<tr>\n",
       "  <th>Booz Allen Hamilton Inc</th>            <td>-4495.3341</td> <td> 6323.019</td> <td>   -0.711</td> <td> 0.477</td> <td>-1.69e+04</td> <td> 7899.458</td>\n",
       "</tr>\n",
       "<tr>\n",
       "  <th>UC San Diego</th>                       <td>-2664.1919</td> <td> 7698.187</td> <td>   -0.346</td> <td> 0.729</td> <td>-1.78e+04</td> <td> 1.24e+04</td>\n",
       "</tr>\n",
       "<tr>\n",
       "  <th>Kforce Technology Staffing</th>         <td> 4719.8463</td> <td> 5994.396</td> <td>    0.787</td> <td> 0.431</td> <td>-7030.757</td> <td> 1.65e+04</td>\n",
       "</tr>\n",
       "<tr>\n",
       "  <th>Google</th>                             <td> 1.318e+04</td> <td> 6728.849</td> <td>    1.958</td> <td> 0.050</td> <td>  -14.746</td> <td> 2.64e+04</td>\n",
       "</tr>\n",
       "<tr>\n",
       "  <th>CyberCoders</th>                        <td>-5369.1035</td> <td> 8138.697</td> <td>   -0.660</td> <td> 0.509</td> <td>-2.13e+04</td> <td> 1.06e+04</td>\n",
       "</tr>\n",
       "<tr>\n",
       "  <th>Guidehouse</th>                         <td> 1.611e+04</td> <td> 6126.215</td> <td>    2.630</td> <td> 0.009</td> <td> 4100.851</td> <td> 2.81e+04</td>\n",
       "</tr>\n",
       "<tr>\n",
       "  <th>In_Headquarters</th>                    <td>  645.1849</td> <td>  839.343</td> <td>    0.769</td> <td> 0.442</td> <td>-1000.149</td> <td> 2290.519</td>\n",
       "</tr>\n",
       "</table>\n",
       "<table class=\"simpletable\">\n",
       "<tr>\n",
       "  <th>Omnibus:</th>       <td>767.074</td> <th>  Durbin-Watson:     </th> <td>   1.983</td> \n",
       "</tr>\n",
       "<tr>\n",
       "  <th>Prob(Omnibus):</th> <td> 0.000</td>  <th>  Jarque-Bera (JB):  </th> <td>1309.255</td> \n",
       "</tr>\n",
       "<tr>\n",
       "  <th>Skew:</th>          <td> 0.682</td>  <th>  Prob(JB):          </th> <td>5.00e-285</td>\n",
       "</tr>\n",
       "<tr>\n",
       "  <th>Kurtosis:</th>      <td> 4.437</td>  <th>  Cond. No.          </th> <td>2.20e+16</td> \n",
       "</tr>\n",
       "</table><br/><br/>Notes:<br/>[1] Standard Errors assume that the covariance matrix of the errors is correctly specified.<br/>[2] The smallest eigenvalue is 1.1e-27. This might indicate that there are<br/>strong multicollinearity problems or that the design matrix is singular."
      ],
      "text/plain": [
       "<class 'statsmodels.iolib.summary.Summary'>\n",
       "\"\"\"\n",
       "                            OLS Regression Results                            \n",
       "==============================================================================\n",
       "Dep. Variable:             Avg_Salary   R-squared:                       0.397\n",
       "Model:                            OLS   Adj. R-squared:                  0.388\n",
       "Method:                 Least Squares   F-statistic:                     43.29\n",
       "Date:                Thu, 25 Feb 2021   Prob (F-statistic):               0.00\n",
       "Time:                        12:22:51   Log-Likelihood:                -93210.\n",
       "No. Observations:                8008   AIC:                         1.867e+05\n",
       "Df Residuals:                    7887   BIC:                         1.875e+05\n",
       "Df Model:                         120                                         \n",
       "Covariance Type:            nonrobust                                         \n",
       "======================================================================================================\n",
       "                                         coef    std err          t      P>|t|      [0.025      0.975]\n",
       "------------------------------------------------------------------------------------------------------\n",
       "const                                7.66e+04   3417.602     22.414      0.000    6.99e+04    8.33e+04\n",
       "R                                    277.9529    941.206      0.295      0.768   -1567.061    2122.967\n",
       "Python                              2958.6309    859.148      3.444      0.001    1274.473    4642.789\n",
       "Julia                               4451.2037   5622.626      0.792      0.429   -6570.632    1.55e+04\n",
       "SQL                                 1570.0485    714.628      2.197      0.028     169.188    2970.909\n",
       "Scala                                -96.8009    943.290     -0.103      0.918   -1945.900    1752.298\n",
       "JavaScript                         -1350.9833   1704.778     -0.792      0.428   -4692.800    1990.834\n",
       "Title_Machine                       8478.0060   2161.298      3.923      0.000    4241.289    1.27e+04\n",
       "Title_Deep                         -8107.3792   8825.840     -0.919      0.358   -2.54e+04    9193.605\n",
       "Title_Analyst                      -2.148e+04   1290.201    -16.650      0.000    -2.4e+04    -1.9e+04\n",
       "Title_Engineer                      1855.6817   1379.500      1.345      0.179    -848.503    4559.867\n",
       "Title_Scientist                     9522.3870   1334.761      7.134      0.000    6905.902    1.21e+04\n",
       "Title_Manager                       -679.3220   2372.909     -0.286      0.775   -5330.852    3972.208\n",
       "Title_Senior                        3199.4264    864.851      3.699      0.000    1504.089    4894.764\n",
       "Title_Junior                       -3516.0720   2534.145     -1.387      0.165   -8483.668    1451.524\n",
       "Title_Lead                          3455.0226   2031.753      1.701      0.089    -527.752    7437.797\n",
       "Title_Principal                     6807.9666   2577.306      2.642      0.008    1755.765    1.19e+04\n",
       "Title_Chief                         4959.3704   9893.485      0.501      0.616   -1.44e+04    2.44e+04\n",
       "Title_Intern                        4673.0768   4326.897      1.080      0.280   -3808.787    1.32e+04\n",
       "Employer_Estimate                   2.575e+04   3611.271      7.129      0.000    1.87e+04    3.28e+04\n",
       "Size_ord                            -874.0008    393.912     -2.219      0.027   -1646.173    -101.829\n",
       "Revenue_ord                          483.7907    216.789      2.232      0.026      58.827     908.755\n",
       "Rating                              1471.3491    565.715      2.601      0.009     362.398    2580.301\n",
       "AZ                                  9632.4067   4314.930      2.232      0.026    1174.002    1.81e+04\n",
       "CA                                  2.996e+04   2579.558     11.615      0.000    2.49e+04     3.5e+04\n",
       "CO                                  8129.2108   3995.982      2.034      0.042     296.028     1.6e+04\n",
       "DC                                  1958.8614   1831.601      1.069      0.285   -1631.562    5549.285\n",
       "DE                                  1.542e+04   4844.827      3.183      0.001    5921.776    2.49e+04\n",
       "FL                                 -1.928e+04   9732.589     -1.981      0.048   -3.84e+04    -204.426\n",
       "GA                                 -1.931e+04   1.56e+04     -1.241      0.215   -4.98e+04    1.12e+04\n",
       "IL                                  9205.3467   3747.679      2.456      0.014    1858.904    1.66e+04\n",
       "IN                                 -1.682e+04   7257.191     -2.318      0.020    -3.1e+04   -2595.531\n",
       "KS                                 -1.048e+04   1.89e+04     -0.555      0.579   -4.75e+04    2.65e+04\n",
       "KY                                  2.351e+04   2.67e+04      0.881      0.378   -2.88e+04    7.58e+04\n",
       "MD                                  5601.3690   3458.792      1.619      0.105   -1178.779    1.24e+04\n",
       "NC                                  1022.6373   9772.746      0.105      0.917   -1.81e+04    2.02e+04\n",
       "NJ                                  1.659e+04   3284.983      5.051      0.000    1.02e+04     2.3e+04\n",
       "NY                                  2.043e+04   4922.143      4.150      0.000    1.08e+04    3.01e+04\n",
       "OH                                  2622.5097   6029.258      0.435      0.664   -9196.433    1.44e+04\n",
       "PA                                  1.094e+04   3096.228      3.532      0.000    4865.640     1.7e+04\n",
       "SC                                  8952.0847   1.89e+04      0.474      0.636   -2.81e+04     4.6e+04\n",
       "TN                                  -375.4708   2.66e+04     -0.014      0.989   -5.25e+04    5.18e+04\n",
       "TX                                 -2291.7551   2876.649     -0.797      0.426   -7930.748    3347.238\n",
       "UT                                 -2.812e+04   5914.054     -4.755      0.000   -3.97e+04   -1.65e+04\n",
       "VA                                  8965.6471   3006.455      2.982      0.003    3072.199    1.49e+04\n",
       "WA                                   343.2573   5084.242      0.068      0.946   -9623.202    1.03e+04\n",
       "Accounting & Legal                  3366.0646   2865.846      1.175      0.240   -2251.752    8983.881\n",
       "Aerospace & Defense                  715.3522   3190.542      0.224      0.823   -5538.955    6969.659\n",
       "Agriculture & Forestry             -2.039e+04   1.14e+04     -1.794      0.073   -4.27e+04    1894.028\n",
       "Arts, Entertainment & Recreation    3524.5470   6808.507      0.518      0.605   -9821.929    1.69e+04\n",
       "Biotech & Pharmaceuticals           2792.2785   2048.137      1.363      0.173   -1222.612    6807.169\n",
       "Business Services                   2259.1861   1114.375      2.027      0.043      74.717    4443.656\n",
       "Construction, Repair & Maintenance  6905.1839   4579.963      1.508      0.132   -2072.756    1.59e+04\n",
       "Consumer Services                  -3637.9913   4489.796     -0.810      0.418   -1.24e+04    5163.198\n",
       "Education                          -3511.7607   2639.096     -1.331      0.183   -8685.087    1661.566\n",
       "Finance                              770.2320   1591.145      0.484      0.628   -2348.833    3889.297\n",
       "Government                          2332.0856   2605.174      0.895      0.371   -2774.745    7438.916\n",
       "Health Care                         2113.0652   1843.019      1.147      0.252   -1499.741    5725.871\n",
       "Information Technology              2023.9789   1056.038      1.917      0.055     -46.135    4094.093\n",
       "Insurance                            440.5283   2185.736      0.202      0.840   -3844.094    4725.150\n",
       "Manufacturing                       1907.8656   2256.796      0.845      0.398   -2516.053    6331.784\n",
       "Media                                784.2333   2879.021      0.272      0.785   -4859.411    6427.877\n",
       "Mining & Metals                    -4012.9957   1.61e+04     -0.249      0.803   -3.56e+04    2.76e+04\n",
       "Non-Profit                         -6511.6879   3950.298     -1.648      0.099   -1.43e+04    1231.942\n",
       "Oil, Gas, Energy & Utilities        2124.1284   3422.472      0.621      0.535   -4584.824    8833.080\n",
       "Real Estate                         1.428e+04   5233.890      2.729      0.006    4022.792    2.45e+04\n",
       "Restaurants, Bars & Food Services   1108.7552   6865.586      0.161      0.872   -1.23e+04    1.46e+04\n",
       "Retail                              7723.4124   2776.480      2.782      0.005    2280.777    1.32e+04\n",
       "Telecommunications                  4374.1522   4642.730      0.942      0.346   -4726.828    1.35e+04\n",
       "Transportation & Logistics         -2670.5618   4239.448     -0.630      0.529    -1.1e+04    5639.880\n",
       "Travel & Tourism                   -1.848e+04   1.39e+04     -1.326      0.185   -4.58e+04    8848.078\n",
       "Austin                              9968.7380   2096.767      4.754      0.000    5858.518    1.41e+04\n",
       "New York                            3043.8493   4660.084      0.653      0.514   -6091.150    1.22e+04\n",
       "Chicago                            -2847.1501   3307.824     -0.861      0.389   -9331.361    3637.061\n",
       "San Diego                          -1.442e+04   1737.906     -8.296      0.000   -1.78e+04    -1.1e+04\n",
       "Houston                             6571.1502   2159.014      3.044      0.002    2338.911    1.08e+04\n",
       "San Antonio                         2348.3022   2285.912      1.027      0.304   -2132.690    6829.294\n",
       "Dallas                              3373.6127   2301.668      1.466      0.143   -1138.267    7885.492\n",
       "Philadelphia                       -2725.6032   2620.786     -1.040      0.298   -7863.037    2411.831\n",
       "Los Angeles                         1621.4633   1944.115      0.834      0.404   -2189.516    5432.443\n",
       "San Francisco                       7063.7089   2017.917      3.500      0.000    3108.056     1.1e+04\n",
       "Phoenix                            -4683.2831   4132.583     -1.133      0.257   -1.28e+04    3417.673\n",
       "San Jose                             2.44e+04   2467.910      9.889      0.000    1.96e+04    2.92e+04\n",
       "Irving                              6712.8973   2760.689      2.432      0.015    1301.217    1.21e+04\n",
       "Columbus                           -5127.4617   6322.120     -0.811      0.417   -1.75e+04    7265.568\n",
       "Plano                               7236.3440   3115.109      2.323      0.020    1129.906    1.33e+04\n",
       "Tempe                              -6494.1900   4801.713     -1.352      0.176   -1.59e+04    2918.439\n",
       "Washington                          1958.8614   1831.601      1.069      0.285   -1631.562    5549.285\n",
       "Santa Clara                         1.986e+04   3471.606      5.721      0.000    1.31e+04    2.67e+04\n",
       "Sunnyvale                           2.045e+04   3281.184      6.231      0.000     1.4e+04    2.69e+04\n",
       "South San Francisco                 2598.9821   4454.282      0.583      0.560   -6132.590    1.13e+04\n",
       "Arlington                           -825.2756   3476.367     -0.237      0.812   -7639.875    5989.324\n",
       "Scottsdale                         -3165.6326   5291.134     -0.598      0.550   -1.35e+04    7206.390\n",
       "Jacksonville                        1.166e+04   1.05e+04      1.110      0.267   -8943.658    3.23e+04\n",
       "Palo Alto                           1.684e+04   3762.821      4.475      0.000    9462.838    2.42e+04\n",
       "Charlotte                           2005.2600   1.07e+04      0.188      0.851   -1.89e+04    2.29e+04\n",
       "Redwood City                        1.892e+04   4063.263      4.656      0.000     1.1e+04    2.69e+04\n",
       "Staffigo Technical Services, LLC    1242.4077   2602.984      0.477      0.633   -3860.131    6344.946\n",
       "Apple                               9145.5318   4106.338      2.227      0.026    1096.022    1.72e+04\n",
       "Amazon                              2667.2675   4025.784      0.663      0.508   -5224.336    1.06e+04\n",
       "Diverse Lynx                        5558.2718   3806.632      1.460      0.144   -1903.735     1.3e+04\n",
       "IBM                                  -87.5249   4702.103     -0.019      0.985   -9304.892    9129.842\n",
       "Kforce                              1082.9349   4046.792      0.268      0.789   -6849.849    9015.719\n",
       "Genentech                           1.862e+04   5942.773      3.134      0.002    6973.206    3.03e+04\n",
       "Solekai Systems Corp                1.147e+04   4553.543      2.518      0.012    2539.716    2.04e+04\n",
       "Lorven Technologies Inc             2027.0087   5427.246      0.373      0.709   -8611.831    1.27e+04\n",
       "Facebook                            1.594e+04   4702.839      3.390      0.001    6724.507    2.52e+04\n",
       "Apex Systems                        2367.8843   5660.632      0.418      0.676   -8728.454    1.35e+04\n",
       "Mondo                              -7573.3709   5373.249     -1.409      0.159   -1.81e+04    2959.620\n",
       "USAA                                 2.01e+04   5844.902      3.439      0.001    8641.172    3.16e+04\n",
       "MUFG                                8694.1538   6569.716      1.323      0.186   -4184.228    2.16e+04\n",
       "Robert Half                         2607.5204   5880.096      0.443      0.657   -8919.025    1.41e+04\n",
       "Randstad                            7508.4212   5754.520      1.305      0.192   -3771.961    1.88e+04\n",
       "eTeam Inc                            897.5818   5776.551      0.155      0.877   -1.04e+04    1.22e+04\n",
       "Southwest Research Institute       -2708.3819   5537.424     -0.489      0.625   -1.36e+04    8146.435\n",
       "Leidos                              1.014e+04   6151.586      1.648      0.099   -1923.162    2.22e+04\n",
       "Booz Allen Hamilton Inc            -4495.3341   6323.019     -0.711      0.477   -1.69e+04    7899.458\n",
       "UC San Diego                       -2664.1919   7698.187     -0.346      0.729   -1.78e+04    1.24e+04\n",
       "Kforce Technology Staffing          4719.8463   5994.396      0.787      0.431   -7030.757    1.65e+04\n",
       "Google                              1.318e+04   6728.849      1.958      0.050     -14.746    2.64e+04\n",
       "CyberCoders                        -5369.1035   8138.697     -0.660      0.509   -2.13e+04    1.06e+04\n",
       "Guidehouse                          1.611e+04   6126.215      2.630      0.009    4100.851    2.81e+04\n",
       "In_Headquarters                      645.1849    839.343      0.769      0.442   -1000.149    2290.519\n",
       "==============================================================================\n",
       "Omnibus:                      767.074   Durbin-Watson:                   1.983\n",
       "Prob(Omnibus):                  0.000   Jarque-Bera (JB):             1309.255\n",
       "Skew:                           0.682   Prob(JB):                    5.00e-285\n",
       "Kurtosis:                       4.437   Cond. No.                     2.20e+16\n",
       "==============================================================================\n",
       "\n",
       "Notes:\n",
       "[1] Standard Errors assume that the covariance matrix of the errors is correctly specified.\n",
       "[2] The smallest eigenvalue is 1.1e-27. This might indicate that there are\n",
       "strong multicollinearity problems or that the design matrix is singular.\n",
       "\"\"\""
      ]
     },
     "execution_count": 38,
     "metadata": {},
     "output_type": "execute_result"
    }
   ],
   "source": [
    "X = df.drop('Avg_Salary', axis=1)\n",
    "y = df.Avg_Salary\n",
    "X_sm = sm.add_constant(X)\n",
    "XOLS_train, XOLS_test, yOLS_train, yOLS_test = train_test_split(X_sm, y, test_size=0.3, random_state=42)\n",
    "model = sm.OLS(yOLS_train, XOLS_train)\n",
    "model = model.fit()\n",
    "model.summary()"
   ]
  },
  {
   "cell_type": "code",
   "execution_count": 39,
   "metadata": {},
   "outputs": [
    {
     "data": {
      "image/png": "[encoded data removed]",
      "text/plain": [
       "<Figure size 432x288 with 1 Axes>"
      ]
     },
     "metadata": {},
     "output_type": "display_data"
    }
   ],
   "source": [
    "plt.scatter(yOLS_test, model.predict(XOLS_test))\n",
    "plt.plot(y_test, y_test, c='b')\n",
    "plt.ylabel('Prediction')\n",
    "plt.xlabel('Actual')\n",
    "plt.title('OLS Regression')\n",
    "plt.show()"
   ]
  },
  {
   "cell_type": "markdown",
   "metadata": {},
   "source": [
    "### Dumping Cities, States and Companies\n",
    "\n",
    "Let us try without most of the dummy variables to see what kind of results we get:"
   ]
  },
  {
   "cell_type": "code",
   "execution_count": 40,
   "metadata": {},
   "outputs": [],
   "source": [
    "df_new = df.iloc[:,:22].copy()\n",
    "df_new['Avg_Salary'] = df.Avg_Salary"
   ]
  },
  {
   "cell_type": "code",
   "execution_count": 41,
   "metadata": {},
   "outputs": [],
   "source": [
    "X_train_new, X_test_new, y_train_new, y_test_new = train_test_split(df_new.drop('Avg_Salary', axis=1), df_new.Avg_Salary, test_size=0.30, random_state=42)"
   ]
  },
  {
   "cell_type": "markdown",
   "metadata": {},
   "source": [
    "# RandomForest"
   ]
  },
  {
   "cell_type": "code",
   "execution_count": 42,
   "metadata": {},
   "outputs": [
    {
     "data": {
      "text/plain": [
       "0.1246373612265026"
      ]
     },
     "execution_count": 42,
     "metadata": {},
     "output_type": "execute_result"
    }
   ],
   "source": [
    "rf_new = RandomForestRegressor(n_jobs=-1, random_state=42)\n",
    "rf_new.fit(X_train_new,y_train_new)\n",
    "rf_new.score(X_test_new,y_test_new)"
   ]
  },
  {
   "cell_type": "code",
   "execution_count": 43,
   "metadata": {},
   "outputs": [
    {
     "data": {
      "text/plain": [
       "25341.723969384766"
      ]
     },
     "execution_count": 43,
     "metadata": {},
     "output_type": "execute_result"
    }
   ],
   "source": [
    "mean_absolute_error(y_test_new, rf_new.predict(X_test_new))"
   ]
  },
  {
   "cell_type": "code",
   "execution_count": 44,
   "metadata": {},
   "outputs": [],
   "source": [
    "params_grid = {'bootstrap': [True, False],\n",
    "               'max_depth': [10, 100, None],\n",
    "               'max_features': ['auto', 'sqrt'],\n",
    "               'min_samples_leaf': [5,50,100],\n",
    "               'n_estimators': [100,1000]}\n",
    "rf_grid_new = RandomForestRegressor(n_jobs=-1, random_state=42)\n",
    "rf_grid_new = GridSearchCV(rf_grid_new, params_grid, cv = 2, verbose=2, n_jobs = -1)"
   ]
  },
  {
   "cell_type": "code",
   "execution_count": 45,
   "metadata": {},
   "outputs": [
    {
     "name": "stdout",
     "output_type": "stream",
     "text": [
      "Fitting 2 folds for each of 72 candidates, totalling 144 fits\n"
     ]
    },
    {
     "name": "stderr",
     "output_type": "stream",
     "text": [
      "[Parallel(n_jobs=-1)]: Using backend LokyBackend with 16 concurrent workers.\n",
      "[Parallel(n_jobs=-1)]: Done   9 tasks      | elapsed:    0.8s\n",
      "[Parallel(n_jobs=-1)]: Done 144 out of 144 | elapsed:   27.0s finished\n"
     ]
    },
    {
     "data": {
      "text/plain": [
       "GridSearchCV(cv=2, estimator=RandomForestRegressor(n_jobs=-1, random_state=42),\n",
       "             n_jobs=-1,\n",
       "             param_grid={'bootstrap': [True, False],\n",
       "                         'max_depth': [10, 100, None],\n",
       "                         'max_features': ['auto', 'sqrt'],\n",
       "                         'min_samples_leaf': [5, 50, 100],\n",
       "                         'n_estimators': [100, 1000]},\n",
       "             verbose=2)"
      ]
     },
     "execution_count": 45,
     "metadata": {},
     "output_type": "execute_result"
    }
   ],
   "source": [
    "rf_grid_new.fit(X_train_new,y_train_new)"
   ]
  },
  {
   "cell_type": "code",
   "execution_count": 46,
   "metadata": {},
   "outputs": [
    {
     "name": "stdout",
     "output_type": "stream",
     "text": [
      "{'bootstrap': False, 'max_depth': 10, 'max_features': 'sqrt', 'min_samples_leaf': 5, 'n_estimators': 100}\n",
      "0.2372322535800171\n",
      "RandomForestRegressor(bootstrap=False, max_depth=10, max_features='sqrt',\n",
      "                      min_samples_leaf=5, n_jobs=-1, random_state=42)\n"
     ]
    }
   ],
   "source": [
    "print(rf_grid_new.best_params_)\n",
    "print(rf_grid_new.best_estimator_.score(X_test_new,y_test_new))\n",
    "print(rf_grid_new.best_estimator_)"
   ]
  },
  {
   "cell_type": "code",
   "execution_count": 47,
   "metadata": {},
   "outputs": [
    {
     "data": {
      "text/plain": [
       "24277.64092400478"
      ]
     },
     "execution_count": 47,
     "metadata": {},
     "output_type": "execute_result"
    }
   ],
   "source": [
    "mean_absolute_error(y_test_new, rf_grid_new.best_estimator_.predict(X_test_new))"
   ]
  },
  {
   "cell_type": "code",
   "execution_count": 48,
   "metadata": {},
   "outputs": [
    {
     "data": {
      "image/png": "[encoded data removed]",
      "text/plain": [
       "<Figure size 432x288 with 1 Axes>"
      ]
     },
     "metadata": {},
     "output_type": "display_data"
    }
   ],
   "source": [
    "plt.scatter(y_test_new, rf_grid_new.best_estimator_.predict(X_test_new))\n",
    "plt.plot(y_test, y_test, c='b')\n",
    "plt.ylabel('Prediction')\n",
    "plt.xlabel('Actual')\n",
    "plt.title('RandomForestRegressor - No Cities, States, Companies')\n",
    "\n",
    "plt.show()"
   ]
  },
  {
   "cell_type": "markdown",
   "metadata": {},
   "source": [
    "#### Saving model:"
   ]
  },
  {
   "cell_type": "code",
   "execution_count": 51,
   "metadata": {},
   "outputs": [],
   "source": [
    "import sklearn\n",
    "best_model = rf_n\n",
    "best_model.version = 1.0\n",
    "best_model.pandas_version = pd.__version__\n",
    "best_model.numpy_version = np.__version__\n",
    "best_model.sklearn_version = sklearn.__version__\n",
    "best_model.X_columns = [col for col in X_train.columns]\n",
    "best_model.build_datetime = datetime.datetime.now()"
   ]
  },
  {
   "cell_type": "code",
   "execution_count": 53,
   "metadata": {},
   "outputs": [],
   "source": [
    "modelpath = 'salary_prediction_model.pkl'\n",
    "pickle.dump(best_model, open(modelpath, 'wb'))"
   ]
  },
  {
   "cell_type": "markdown",
   "metadata": {},
   "source": [
    "# Conclusions\n",
    "\n",
    " - Our best model ended up being a RandomForestRegressor."
   ]
  },
  {
   "cell_type": "code",
   "execution_count": 54,
   "metadata": {},
   "outputs": [
    {
     "data": {
      "image/png": "[encoded data removed]",
      "text/plain": [
       "<Figure size 432x288 with 1 Axes>"
      ]
     },
     "metadata": {},
     "output_type": "display_data"
    }
   ],
   "source": [
    "plt.scatter(y_test, rf_n.predict(X_test))\n",
    "plt.plot(y_test, y_test, c='b')\n",
    "plt.ylabel('Prediction')\n",
    "plt.xlabel('Actual')\n",
    "plt.title('RandomForestRegressor')\n",
    "\n",
    "plt.show()"
   ]
  },
  {
   "cell_type": "markdown",
   "metadata": {},
   "source": [
    " - Our MAE is `$20941`. I believe this is due to our dataset. Most observation had a Glassdoor Estimate range with a difference greater than `$40K`, and, despite this, our model is able to reduce that range to slightly below `$42K`. \n"
   ]
  },
  {
   "cell_type": "markdown",
   "metadata": {},
   "source": [
    "#### Additional approac to take:\n",
    " - NLP can be applied to `Job_Desc` to try and find correlations with the actual text and the salary. We tried a version of this by extracting keywords such as `Python`, `R`, `Scala`, etc.\n"
   ]
  },
  {
   "cell_type": "code",
   "execution_count": null,
   "metadata": {},
   "outputs": [],
   "source": []
  }
 ],
 "metadata": {
  "kernelspec": {
   "display_name": "Python Conda",
   "language": "python",
   "name": "conda"
  },
  "language_info": {
   "codemirror_mode": {
    "name": "ipython",
    "version": 3
   },
   "file_extension": ".py",
   "mimetype": "text/x-python",
   "name": "python",
   "nbconvert_exporter": "python",
   "pygments_lexer": "ipython3",
   "version": "3.6.12"
  }
 },
 "nbformat": 4,
 "nbformat_minor": 4
}
